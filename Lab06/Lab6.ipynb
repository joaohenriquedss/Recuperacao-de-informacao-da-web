{
  "nbformat": 4,
  "nbformat_minor": 0,
  "metadata": {
    "colab": {
      "name": "Lab6.ipynb",
      "version": "0.3.2",
      "provenance": [],
      "toc_visible": true
    },
    "kernelspec": {
      "name": "python3",
      "display_name": "Python 3"
    }
  },
  "cells": [
    {
      "cell_type": "markdown",
      "metadata": {
        "id": "xlH7I0lw1UUP",
        "colab_type": "text"
      },
      "source": [
        "# Parte 1 : Importando Bibliotecas"
      ]
    },
    {
      "cell_type": "code",
      "metadata": {
        "id": "iALqF9zv3PEP",
        "colab_type": "code",
        "outputId": "736f03c5-64ea-4c22-a346-bab2175cba3b",
        "colab": {
          "base_uri": "https://localhost:8080/",
          "height": 136
        }
      },
      "source": [
        "import csv\n",
        "import pandas as pd\n",
        "import numpy as np\n",
        "import nltk\n",
        "import re\n",
        "import collections\n",
        "import bisect\n",
        "from nltk.tokenize import RegexpTokenizer\n",
        "nltk.download('punkt')\n",
        "nltk.download('stopwords')\n",
        "nltk.download('averaged_perceptron_tagger')\n",
        "from nltk.tokenize import word_tokenize\n",
        "from nltk import tokenize \n",
        "from nltk.stem import RSLPStemmer\n",
        "from nltk.stem.porter import *\n",
        "import heapq\n",
        "import heapq as hp\n",
        "import time\n",
        "%matplotlib inline"
      ],
      "execution_count": 0,
      "outputs": [
        {
          "output_type": "stream",
          "text": [
            "[nltk_data] Downloading package punkt to /root/nltk_data...\n",
            "[nltk_data]   Unzipping tokenizers/punkt.zip.\n",
            "[nltk_data] Downloading package stopwords to /root/nltk_data...\n",
            "[nltk_data]   Unzipping corpora/stopwords.zip.\n",
            "[nltk_data] Downloading package averaged_perceptron_tagger to\n",
            "[nltk_data]     /root/nltk_data...\n",
            "[nltk_data]   Unzipping taggers/averaged_perceptron_tagger.zip.\n"
          ],
          "name": "stdout"
        }
      ]
    },
    {
      "cell_type": "markdown",
      "metadata": {
        "id": "hS5YJDTs3lRq",
        "colab_type": "text"
      },
      "source": [
        "##  Lendo arquivo result.csv"
      ]
    },
    {
      "cell_type": "code",
      "metadata": {
        "id": "eBIce-4px15z",
        "colab_type": "code",
        "outputId": "c8ea5468-7424-485b-c739-518541cf487c",
        "colab": {
          "base_uri": "https://localhost:8080/",
          "height": 561
        }
      },
      "source": [
        "arquivo = pd.read_csv('results.csv')\n",
        "texto = arquivo['text']\n",
        "\n",
        "def eliminar_carac(text):\n",
        "  return re.sub(r'(\\W+|\\d+|\\b\\w{0,2}\\b)', ' ', text.lower())\n",
        "texto = texto.apply(eliminar_carac)\n",
        "\n",
        "texto = texto.apply(tokenize.word_tokenize, language='portuguese')\n",
        "arquivo.head()"
      ],
      "execution_count": 0,
      "outputs": [
        {
          "output_type": "execute_result",
          "data": {
            "text/html": [
              "<div>\n",
              "<style scoped>\n",
              "    .dataframe tbody tr th:only-of-type {\n",
              "        vertical-align: middle;\n",
              "    }\n",
              "\n",
              "    .dataframe tbody tr th {\n",
              "        vertical-align: top;\n",
              "    }\n",
              "\n",
              "    .dataframe thead th {\n",
              "        text-align: right;\n",
              "    }\n",
              "</style>\n",
              "<table border=\"1\" class=\"dataframe\">\n",
              "  <thead>\n",
              "    <tr style=\"text-align: right;\">\n",
              "      <th></th>\n",
              "      <th>title</th>\n",
              "      <th>subtitle</th>\n",
              "      <th>author</th>\n",
              "      <th>date</th>\n",
              "      <th>section</th>\n",
              "      <th>text</th>\n",
              "      <th>url</th>\n",
              "    </tr>\n",
              "  </thead>\n",
              "  <tbody>\n",
              "    <tr>\n",
              "      <th>0</th>\n",
              "      <td>“A sociedade foi Rubens Paiva  não os facínora...</td>\n",
              "      <td>A decisão da juíza que proíbe as Forças Armada...</td>\n",
              "      <td>F. M.</td>\n",
              "      <td>30/03/2019 00:11:08</td>\n",
              "      <td>Brasil</td>\n",
              "      <td>A juíza federal Ivani Silva da Luz  de Brasíli...</td>\n",
              "      <td>https://brasil.elpais.com/brasil/2019/03/26/po...</td>\n",
              "    </tr>\n",
              "    <tr>\n",
              "      <th>1</th>\n",
              "      <td>Justiça suspende decisão que proibia Forças Ar...</td>\n",
              "      <td>Liminar havia sido concedida na sexta-feira a ...</td>\n",
              "      <td>Marina Rossi</td>\n",
              "      <td>30/03/2019 16:17:59</td>\n",
              "      <td>Brasil</td>\n",
              "      <td>Menos de 24 horas depois de a juíza federal Iv...</td>\n",
              "      <td>https://brasil.elpais.com/brasil/2019/03/30/po...</td>\n",
              "    </tr>\n",
              "    <tr>\n",
              "      <th>2</th>\n",
              "      <td>Governo Bolsonaro prega “negacionismo históric...</td>\n",
              "      <td>Marcos Napolitano  professor da USP  diz que o...</td>\n",
              "      <td>Regiane Oliveira</td>\n",
              "      <td>04/04/2019 22:37:48</td>\n",
              "      <td>Brasil</td>\n",
              "      <td>Quando  determinou que  de 31 de março 1964  u...</td>\n",
              "      <td>https://brasil.elpais.com/brasil/2019/04/05/po...</td>\n",
              "    </tr>\n",
              "    <tr>\n",
              "      <th>3</th>\n",
              "      <td>Quando os pais de Gabo perceberam que tinham u...</td>\n",
              "      <td>Gustavo Tatis percorre o universo de García Má...</td>\n",
              "      <td>Jesús Ruiz Mantilla</td>\n",
              "      <td>07/03/2019 16:38:56</td>\n",
              "      <td>Cultura</td>\n",
              "      <td>Quando  era pequeno   Luisa e  Gabriel se preo...</td>\n",
              "      <td>https://brasil.elpais.com/brasil/2019/03/06/cu...</td>\n",
              "    </tr>\n",
              "    <tr>\n",
              "      <th>4</th>\n",
              "      <td>Rádios canadenses banem músicas de Michael Jac...</td>\n",
              "      <td>Quebec Cogeco Media toma a decisão após queixa...</td>\n",
              "      <td>Jaime Porras Ferreyra</td>\n",
              "      <td>07/03/2019 16:12:37</td>\n",
              "      <td>Cultura</td>\n",
              "      <td>Desde a manhã da última segunda-feira     e   ...</td>\n",
              "      <td>https://brasil.elpais.com/brasil/2019/03/06/cu...</td>\n",
              "    </tr>\n",
              "  </tbody>\n",
              "</table>\n",
              "</div>"
            ],
            "text/plain": [
              "                                               title  ...                                                url\n",
              "0  “A sociedade foi Rubens Paiva  não os facínora...  ...  https://brasil.elpais.com/brasil/2019/03/26/po...\n",
              "1  Justiça suspende decisão que proibia Forças Ar...  ...  https://brasil.elpais.com/brasil/2019/03/30/po...\n",
              "2  Governo Bolsonaro prega “negacionismo históric...  ...  https://brasil.elpais.com/brasil/2019/04/05/po...\n",
              "3  Quando os pais de Gabo perceberam que tinham u...  ...  https://brasil.elpais.com/brasil/2019/03/06/cu...\n",
              "4  Rádios canadenses banem músicas de Michael Jac...  ...  https://brasil.elpais.com/brasil/2019/03/06/cu...\n",
              "\n",
              "[5 rows x 7 columns]"
            ]
          },
          "metadata": {
            "tags": []
          },
          "execution_count": 37
        }
      ]
    },
    {
      "cell_type": "markdown",
      "metadata": {
        "id": "5lNPI4D-2Dx3",
        "colab_type": "text"
      },
      "source": [
        "##Eliminando as stopwords : Usando a biblioteca nltk\n",
        "Algoritmo Build Index : Usada para uma indexação simples"
      ]
    },
    {
      "cell_type": "code",
      "metadata": {
        "id": "i4vCOslXx7bL",
        "colab_type": "code",
        "colab": {}
      },
      "source": [
        "stopwords = nltk.corpus.stopwords.words('portuguese')\n",
        "\n",
        "def eliminar_stopwords(text):\n",
        "  palavras = []\n",
        "  for palavra in text:\n",
        "    if(palavra not in stopwords):\n",
        "      palavras.append(palavra)\n",
        "  return palavras \n",
        "\n",
        "def build_index(arquivo):\n",
        "  numero_da_lista = 0\n",
        "  dic_index = {}\n",
        "  \n",
        "  for documento in arquivo:\n",
        "    \n",
        "    numero_da_lista += 1\n",
        "    doc = eliminar_stopwords(documento)\n",
        "    \n",
        "    for palavra in doc:\n",
        "      ocorrencia = doc.count(palavra)\n",
        "      par = (numero_da_lista, ocorrencia)\n",
        "      if palavra not in dic_index:\n",
        "        dic_index[palavra] = []\n",
        "      \n",
        "      if par not in dic_index[palavra]:\n",
        "         dic_index[palavra].append(par)\n",
        "  return dic_index\n",
        "index = {}              \n",
        "index = build_index(texto)\n"
      ],
      "execution_count": 0,
      "outputs": []
    },
    {
      "cell_type": "markdown",
      "metadata": {
        "id": "kZZItyAR2G7I",
        "colab_type": "text"
      },
      "source": [
        "# Parte 2 : Usando IDF como complemento "
      ]
    },
    {
      "cell_type": "code",
      "metadata": {
        "id": "p_gv7WkQyEwh",
        "colab_type": "code",
        "outputId": "b96673ca-4bc8-4f9a-bb3d-c850d23ce1e3",
        "colab": {
          "base_uri": "https://localhost:8080/",
          "height": 204
        }
      },
      "source": [
        "M = texto.count()\n",
        "IDF = {}\n",
        "for pa in index:\n",
        "  k = len(index[pa])\n",
        "  idf = round(np.log((M+1)/k),2)\n",
        "  IDF[pa] = idf\n",
        "\n",
        "tabela = {'palavra' : list(index.keys()),\n",
        "       'doc|ocorrencia' : list(index.values()) ,\n",
        "       'IDF' : list(IDF.values())}\n",
        "df = pd.DataFrame(tabela)\n",
        "df.head()\n"
      ],
      "execution_count": 0,
      "outputs": [
        {
          "output_type": "execute_result",
          "data": {
            "text/html": [
              "<div>\n",
              "<style scoped>\n",
              "    .dataframe tbody tr th:only-of-type {\n",
              "        vertical-align: middle;\n",
              "    }\n",
              "\n",
              "    .dataframe tbody tr th {\n",
              "        vertical-align: top;\n",
              "    }\n",
              "\n",
              "    .dataframe thead th {\n",
              "        text-align: right;\n",
              "    }\n",
              "</style>\n",
              "<table border=\"1\" class=\"dataframe\">\n",
              "  <thead>\n",
              "    <tr style=\"text-align: right;\">\n",
              "      <th></th>\n",
              "      <th>palavra</th>\n",
              "      <th>doc|ocorrencia</th>\n",
              "      <th>IDF</th>\n",
              "    </tr>\n",
              "  </thead>\n",
              "  <tbody>\n",
              "    <tr>\n",
              "      <th>0</th>\n",
              "      <td>juíza</td>\n",
              "      <td>[(1, 2), (2, 1)]</td>\n",
              "      <td>4.83</td>\n",
              "    </tr>\n",
              "    <tr>\n",
              "      <th>1</th>\n",
              "      <td>federal</td>\n",
              "      <td>[(1, 2), (2, 2), (3, 1), (6, 1), (7, 3), (15, ...</td>\n",
              "      <td>1.63</td>\n",
              "    </tr>\n",
              "    <tr>\n",
              "      <th>2</th>\n",
              "      <td>ivani</td>\n",
              "      <td>[(1, 1), (2, 1)]</td>\n",
              "      <td>4.83</td>\n",
              "    </tr>\n",
              "    <tr>\n",
              "      <th>3</th>\n",
              "      <td>silva</td>\n",
              "      <td>[(1, 3), (2, 1), (6, 1), (14, 2), (26, 1), (73...</td>\n",
              "      <td>3.04</td>\n",
              "    </tr>\n",
              "    <tr>\n",
              "      <th>4</th>\n",
              "      <td>luz</td>\n",
              "      <td>[(1, 3), (2, 1), (9, 1), (17, 1), (32, 2), (78...</td>\n",
              "      <td>2.53</td>\n",
              "    </tr>\n",
              "  </tbody>\n",
              "</table>\n",
              "</div>"
            ],
            "text/plain": [
              "   palavra                                     doc|ocorrencia   IDF\n",
              "0    juíza                                   [(1, 2), (2, 1)]  4.83\n",
              "1  federal  [(1, 2), (2, 2), (3, 1), (6, 1), (7, 3), (15, ...  1.63\n",
              "2    ivani                                   [(1, 1), (2, 1)]  4.83\n",
              "3    silva  [(1, 3), (2, 1), (6, 1), (14, 2), (26, 1), (73...  3.04\n",
              "4      luz  [(1, 3), (2, 1), (9, 1), (17, 1), (32, 2), (78...  2.53"
            ]
          },
          "metadata": {
            "tags": []
          },
          "execution_count": 9
        }
      ]
    },
    {
      "cell_type": "markdown",
      "metadata": {
        "id": "35pvZs3W2b-q",
        "colab_type": "text"
      },
      "source": [
        "# Parte 3 :"
      ]
    },
    {
      "cell_type": "markdown",
      "metadata": {
        "id": "ACriftjM2OlY",
        "colab_type": "text"
      },
      "source": [
        "## 3.1 Representação binária"
      ]
    },
    {
      "cell_type": "code",
      "metadata": {
        "id": "iFAJvDT391wi",
        "colab_type": "code",
        "colab": {}
      },
      "source": [
        "def binario_r(query, doc):\n",
        "  contador = 0\n",
        "  query_palavras = query.split()\n",
        "  doc_palavras = doc.split()\n",
        "  \n",
        "  for palavra in query_palavras:\n",
        "    contador += (palavra in doc_palavras)\n",
        "    \n",
        "  return contador"
      ],
      "execution_count": 0,
      "outputs": []
    },
    {
      "cell_type": "markdown",
      "metadata": {
        "id": "WUWNhk_7_8C7",
        "colab_type": "text"
      },
      "source": [
        "## 3.2 TF"
      ]
    },
    {
      "cell_type": "code",
      "metadata": {
        "id": "4bC3KWxJAD3C",
        "colab_type": "code",
        "colab": {}
      },
      "source": [
        "def tf_fun(query, doc):\n",
        "  contador = 0\n",
        "  doc_palavras = doc.split()\n",
        "  query_palavras = query.split()\n",
        "  \n",
        "  for palavra in query_palavras:\n",
        "    contador += doc_palavras.count(palavra)\n",
        "  \n",
        "  return contador"
      ],
      "execution_count": 0,
      "outputs": []
    },
    {
      "cell_type": "markdown",
      "metadata": {
        "id": "N4IAKxyRD7S7",
        "colab_type": "text"
      },
      "source": [
        "## 3.3 TF-IDF"
      ]
    },
    {
      "cell_type": "code",
      "metadata": {
        "id": "b9NeIk4YEICa",
        "colab_type": "code",
        "colab": {}
      },
      "source": [
        "def tf_idf(query, document):\n",
        "  score = 0\n",
        "  doc_tokens = document.split()\n",
        "  query_tokens = query.split()\n",
        "  \n",
        "  for word in query_tokens:\n",
        "    cwd = doc_tokens.count(word)\n",
        "    if word in index:\n",
        "      score += cwd * len(index[word][-1])\n",
        "  \n",
        "  return round(score,2)"
      ],
      "execution_count": 0,
      "outputs": []
    },
    {
      "cell_type": "markdown",
      "metadata": {
        "id": "pHKimA0zGsFQ",
        "colab_type": "text"
      },
      "source": [
        "## 3.4 BM25"
      ]
    },
    {
      "cell_type": "code",
      "metadata": {
        "id": "o3Dw58q4GvsF",
        "colab_type": "code",
        "colab": {}
      },
      "source": [
        "def bm25(query, document, k):\n",
        "  score = 0\n",
        "  doc_tokens = document.split()\n",
        "  query_tokens = query.split()\n",
        "  \n",
        "  words = [word for word in query_tokens if word in doc_tokens]\n",
        "    \n",
        "  for word in words:\n",
        "    cwd = doc_tokens.count(word)\n",
        "    dfw = 0\n",
        "    if word in index:\n",
        "      dfw = len(index[word][:-1])\n",
        "    score += (((k+1) * cwd) / (cwd + k)) * np.log10(((M+1) / dfw)) if dfw != 0 else 0\n",
        "  \n",
        "  return round(score,2)"
      ],
      "execution_count": 0,
      "outputs": []
    },
    {
      "cell_type": "markdown",
      "metadata": {
        "id": "WbvN3hbqMBPc",
        "colab_type": "text"
      },
      "source": [
        "# Parte 4 :  3 consultas de [\"política\", \"presidente\", \"jair bolsonaro\"] e seus top-5 documentos mais similares à cada consulta"
      ]
    },
    {
      "cell_type": "code",
      "metadata": {
        "id": "klBSx_Ld_23w",
        "colab_type": "code",
        "colab": {}
      },
      "source": [
        "def top5(query):\n",
        "  n = 0\n",
        "  binario = []\n",
        "  tf = []\n",
        "  tfidf = []\n",
        "  b25 = []\n",
        "  for doc in arquivo.text:\n",
        "    doc = doc.lower()\n",
        "    n += 1\n",
        "    bisect.insort(binario, (binario_r(query, doc), n))\n",
        "    bisect.insort(tf, (tf_fun(query, doc), n))\n",
        "    bisect.insort(tfidf, (tf_idf(query, doc), n))\n",
        "    bisect.insort(b25, (bm25(query, doc,20), n))\n",
        " \n",
        "  binario.reverse()\n",
        "  tf.reverse()\n",
        "  tfidf.reverse()\n",
        "  b25.reverse()\n",
        "  \n",
        "  return binario[:5],tf[:5],tfidf[:5],b25[:5]"
      ],
      "execution_count": 0,
      "outputs": []
    },
    {
      "cell_type": "code",
      "metadata": {
        "id": "gmvzMjDP95P4",
        "colab_type": "code",
        "colab": {}
      },
      "source": [
        "queries = [\"política\", \"presidente\", \"jair bolsonaro\"]\n",
        "\n",
        "top5_b = ['','','']\n",
        "top5_tf = ['','','']\n",
        "top5_tfidf = ['','','']\n",
        "top5_bm25 = ['','','']"
      ],
      "execution_count": 0,
      "outputs": []
    },
    {
      "cell_type": "code",
      "metadata": {
        "id": "EyUUDMdUJSvJ",
        "colab_type": "code",
        "outputId": "48975729-17c0-4fb9-d3d7-c56bca3a21dc",
        "colab": {
          "base_uri": "https://localhost:8080/",
          "height": 193
        }
      },
      "source": [
        "top5_b[0], top5_tf[0], top5_tfidf[0], top5_bm25[0] = top5(queries[0])\n",
        "top5_b[1], top5_tf[1], top5_tfidf[1], top5_bm25[1] = top5(queries[1])\n",
        "top5_b[2], top5_tf[2], top5_tfidf[2], top5_bm25[2] = top5(queries[2])\n",
        "df = pd.DataFrame()\n",
        "\n",
        "df['Query'] = queries\n",
        "df['Binary'] = top5_b\n",
        "df['TF'] = top5_tf\n",
        "df['TF IDF'] = top5_tfidf\n",
        "df['BM25'] = top5_bm25\n",
        "df"
      ],
      "execution_count": 0,
      "outputs": [
        {
          "output_type": "execute_result",
          "data": {
            "text/html": [
              "<div>\n",
              "<style scoped>\n",
              "    .dataframe tbody tr th:only-of-type {\n",
              "        vertical-align: middle;\n",
              "    }\n",
              "\n",
              "    .dataframe tbody tr th {\n",
              "        vertical-align: top;\n",
              "    }\n",
              "\n",
              "    .dataframe thead th {\n",
              "        text-align: right;\n",
              "    }\n",
              "</style>\n",
              "<table border=\"1\" class=\"dataframe\">\n",
              "  <thead>\n",
              "    <tr style=\"text-align: right;\">\n",
              "      <th></th>\n",
              "      <th>Query</th>\n",
              "      <th>Binary</th>\n",
              "      <th>TF</th>\n",
              "      <th>TF IDF</th>\n",
              "      <th>BM25</th>\n",
              "    </tr>\n",
              "  </thead>\n",
              "  <tbody>\n",
              "    <tr>\n",
              "      <th>0</th>\n",
              "      <td>política</td>\n",
              "      <td>[(1, 247), (1, 238), (1, 236), (1, 225), (1, 2...</td>\n",
              "      <td>[(8, 69), (5, 204), (5, 173), (5, 165), (5, 63)]</td>\n",
              "      <td>[(16, 69), (10, 204), (10, 173), (10, 165), (1...</td>\n",
              "      <td>[(2.78, 69), (1.95, 204), (1.95, 173), (1.95, ...</td>\n",
              "    </tr>\n",
              "    <tr>\n",
              "      <th>1</th>\n",
              "      <td>presidente</td>\n",
              "      <td>[(1, 247), (1, 246), (1, 240), (1, 239), (1, 2...</td>\n",
              "      <td>[(15, 166), (14, 63), (12, 151), (11, 19), (9,...</td>\n",
              "      <td>[(30, 166), (28, 63), (24, 151), (22, 19), (18...</td>\n",
              "      <td>[(3.07, 166), (2.95, 63), (2.69, 151), (2.54, ...</td>\n",
              "    </tr>\n",
              "    <tr>\n",
              "      <th>2</th>\n",
              "      <td>jair bolsonaro</td>\n",
              "      <td>[(2, 238), (2, 237), (2, 231), (2, 224), (2, 2...</td>\n",
              "      <td>[(41, 207), (37, 151), (31, 166), (19, 19), (1...</td>\n",
              "      <td>[(82, 207), (74, 151), (62, 166), (38, 19), (2...</td>\n",
              "      <td>[(15.8, 207), (12.27, 151), (8.43, 166), (5.92...</td>\n",
              "    </tr>\n",
              "  </tbody>\n",
              "</table>\n",
              "</div>"
            ],
            "text/plain": [
              "            Query  ...                                               BM25\n",
              "0        política  ...  [(2.78, 69), (1.95, 204), (1.95, 173), (1.95, ...\n",
              "1      presidente  ...  [(3.07, 166), (2.95, 63), (2.69, 151), (2.54, ...\n",
              "2  jair bolsonaro  ...  [(15.8, 207), (12.27, 151), (8.43, 166), (5.92...\n",
              "\n",
              "[3 rows x 5 columns]"
            ]
          },
          "metadata": {
            "tags": []
          },
          "execution_count": 16
        }
      ]
    },
    {
      "cell_type": "markdown",
      "metadata": {
        "id": "5UtVEqjUMjXc",
        "colab_type": "text"
      },
      "source": [
        "# Parte 5"
      ]
    },
    {
      "cell_type": "code",
      "metadata": {
        "id": "NpVFQV9_aIFP",
        "colab_type": "code",
        "colab": {}
      },
      "source": [
        "def pontos_top(top5):\n",
        "  return [top[0][0] for top in top5]\n",
        "\n",
        "def documento_top(top5):\n",
        "  return [top[0][1] for top in top5]"
      ],
      "execution_count": 0,
      "outputs": []
    },
    {
      "cell_type": "code",
      "metadata": {
        "id": "h5A6c7DMnJAb",
        "colab_type": "code",
        "colab": {}
      },
      "source": [
        "pontos_binario = pontos_top(top5_b)\n",
        "documentos_binario = documento_top(top5_b)\n",
        "\n",
        "\n",
        "pontos_tf = pontos_top(top5_tf)\n",
        "documentos_tf = documento_top(top5_tf)\n",
        "\n",
        "pontos_tfidf = pontos_top(top5_tfidf)\n",
        "documento_tfidf = documento_top(top5_tfidf)\n",
        "\n",
        "pontos_bm25 = pontos_top(top5_bm25)\n",
        "documento_bm25 = documento_top(top5_bm25)"
      ],
      "execution_count": 0,
      "outputs": []
    },
    {
      "cell_type": "markdown",
      "metadata": {
        "id": "1O3ebsyIxD4M",
        "colab_type": "text"
      },
      "source": [
        "## Binario"
      ]
    },
    {
      "cell_type": "code",
      "metadata": {
        "id": "pu1cwZ0CtPm8",
        "colab_type": "code",
        "outputId": "48c0118b-22d3-4c8d-aa0e-b4ac1ced2a78",
        "colab": {
          "base_uri": "https://localhost:8080/",
          "height": 142
        }
      },
      "source": [
        "df_binario = pd.DataFrame()\n",
        "df_binario['Query'] = queries\n",
        "df_binario['Pontuacao Binaria'] = pontos_binario\n",
        "df_binario['Documentos'] = documentos_binario\n",
        "\n",
        "df_binario"
      ],
      "execution_count": 0,
      "outputs": [
        {
          "output_type": "execute_result",
          "data": {
            "text/html": [
              "<div>\n",
              "<style scoped>\n",
              "    .dataframe tbody tr th:only-of-type {\n",
              "        vertical-align: middle;\n",
              "    }\n",
              "\n",
              "    .dataframe tbody tr th {\n",
              "        vertical-align: top;\n",
              "    }\n",
              "\n",
              "    .dataframe thead th {\n",
              "        text-align: right;\n",
              "    }\n",
              "</style>\n",
              "<table border=\"1\" class=\"dataframe\">\n",
              "  <thead>\n",
              "    <tr style=\"text-align: right;\">\n",
              "      <th></th>\n",
              "      <th>Query</th>\n",
              "      <th>Pontuacao Binaria</th>\n",
              "      <th>Documentos</th>\n",
              "    </tr>\n",
              "  </thead>\n",
              "  <tbody>\n",
              "    <tr>\n",
              "      <th>0</th>\n",
              "      <td>política</td>\n",
              "      <td>1</td>\n",
              "      <td>247</td>\n",
              "    </tr>\n",
              "    <tr>\n",
              "      <th>1</th>\n",
              "      <td>presidente</td>\n",
              "      <td>1</td>\n",
              "      <td>247</td>\n",
              "    </tr>\n",
              "    <tr>\n",
              "      <th>2</th>\n",
              "      <td>jair bolsonaro</td>\n",
              "      <td>2</td>\n",
              "      <td>238</td>\n",
              "    </tr>\n",
              "  </tbody>\n",
              "</table>\n",
              "</div>"
            ],
            "text/plain": [
              "            Query  Pontuacao Binaria  Documentos\n",
              "0        política                  1         247\n",
              "1      presidente                  1         247\n",
              "2  jair bolsonaro                  2         238"
            ]
          },
          "metadata": {
            "tags": []
          },
          "execution_count": 72
        }
      ]
    },
    {
      "cell_type": "markdown",
      "metadata": {
        "id": "_wmxWjZOxGsr",
        "colab_type": "text"
      },
      "source": [
        "##TF"
      ]
    },
    {
      "cell_type": "code",
      "metadata": {
        "id": "OOxv-HqPtnqo",
        "colab_type": "code",
        "outputId": "d0febab6-1f4e-4b79-c49d-3baf6ef405e9",
        "colab": {
          "base_uri": "https://localhost:8080/",
          "height": 142
        }
      },
      "source": [
        "df_tf = pd.DataFrame()\n",
        "df_tf['Query'] = queries\n",
        "df_tf['Pontuacao TF'] = pontos_tf\n",
        "df_tf['Documentos'] = documentos_tf\n",
        "\n",
        "df_tf"
      ],
      "execution_count": 0,
      "outputs": [
        {
          "output_type": "execute_result",
          "data": {
            "text/html": [
              "<div>\n",
              "<style scoped>\n",
              "    .dataframe tbody tr th:only-of-type {\n",
              "        vertical-align: middle;\n",
              "    }\n",
              "\n",
              "    .dataframe tbody tr th {\n",
              "        vertical-align: top;\n",
              "    }\n",
              "\n",
              "    .dataframe thead th {\n",
              "        text-align: right;\n",
              "    }\n",
              "</style>\n",
              "<table border=\"1\" class=\"dataframe\">\n",
              "  <thead>\n",
              "    <tr style=\"text-align: right;\">\n",
              "      <th></th>\n",
              "      <th>Query</th>\n",
              "      <th>Pontuacao TF</th>\n",
              "      <th>Documentos</th>\n",
              "    </tr>\n",
              "  </thead>\n",
              "  <tbody>\n",
              "    <tr>\n",
              "      <th>0</th>\n",
              "      <td>política</td>\n",
              "      <td>8</td>\n",
              "      <td>69</td>\n",
              "    </tr>\n",
              "    <tr>\n",
              "      <th>1</th>\n",
              "      <td>presidente</td>\n",
              "      <td>15</td>\n",
              "      <td>166</td>\n",
              "    </tr>\n",
              "    <tr>\n",
              "      <th>2</th>\n",
              "      <td>jair bolsonaro</td>\n",
              "      <td>41</td>\n",
              "      <td>207</td>\n",
              "    </tr>\n",
              "  </tbody>\n",
              "</table>\n",
              "</div>"
            ],
            "text/plain": [
              "            Query  Pontuacao TF  Documentos\n",
              "0        política             8          69\n",
              "1      presidente            15         166\n",
              "2  jair bolsonaro            41         207"
            ]
          },
          "metadata": {
            "tags": []
          },
          "execution_count": 73
        }
      ]
    },
    {
      "cell_type": "markdown",
      "metadata": {
        "id": "KobeFeqqxJdr",
        "colab_type": "text"
      },
      "source": [
        "##TF-IDF"
      ]
    },
    {
      "cell_type": "code",
      "metadata": {
        "id": "RpO6eTJovFhY",
        "colab_type": "code",
        "outputId": "9043afbb-4826-4187-d0f2-f4147f8d2d6e",
        "colab": {
          "base_uri": "https://localhost:8080/",
          "height": 142
        }
      },
      "source": [
        "df_tfidf= pd.DataFrame()\n",
        "df_tfidf['Query'] = queries\n",
        "df_tfidf['Pontuacao TF-IDF'] = pontos_tfidf\n",
        "df_tfidf['Documentos'] = documento_tfidf\n",
        "\n",
        "df_tfidf"
      ],
      "execution_count": 0,
      "outputs": [
        {
          "output_type": "execute_result",
          "data": {
            "text/html": [
              "<div>\n",
              "<style scoped>\n",
              "    .dataframe tbody tr th:only-of-type {\n",
              "        vertical-align: middle;\n",
              "    }\n",
              "\n",
              "    .dataframe tbody tr th {\n",
              "        vertical-align: top;\n",
              "    }\n",
              "\n",
              "    .dataframe thead th {\n",
              "        text-align: right;\n",
              "    }\n",
              "</style>\n",
              "<table border=\"1\" class=\"dataframe\">\n",
              "  <thead>\n",
              "    <tr style=\"text-align: right;\">\n",
              "      <th></th>\n",
              "      <th>Query</th>\n",
              "      <th>Pontuacao TF-IDF</th>\n",
              "      <th>Documentos</th>\n",
              "    </tr>\n",
              "  </thead>\n",
              "  <tbody>\n",
              "    <tr>\n",
              "      <th>0</th>\n",
              "      <td>política</td>\n",
              "      <td>16</td>\n",
              "      <td>69</td>\n",
              "    </tr>\n",
              "    <tr>\n",
              "      <th>1</th>\n",
              "      <td>presidente</td>\n",
              "      <td>30</td>\n",
              "      <td>166</td>\n",
              "    </tr>\n",
              "    <tr>\n",
              "      <th>2</th>\n",
              "      <td>jair bolsonaro</td>\n",
              "      <td>82</td>\n",
              "      <td>207</td>\n",
              "    </tr>\n",
              "  </tbody>\n",
              "</table>\n",
              "</div>"
            ],
            "text/plain": [
              "            Query  Pontuacao TF-IDF  Documentos\n",
              "0        política                16          69\n",
              "1      presidente                30         166\n",
              "2  jair bolsonaro                82         207"
            ]
          },
          "metadata": {
            "tags": []
          },
          "execution_count": 74
        }
      ]
    },
    {
      "cell_type": "markdown",
      "metadata": {
        "id": "DXH-lR8qxNpi",
        "colab_type": "text"
      },
      "source": [
        "##BM25"
      ]
    },
    {
      "cell_type": "code",
      "metadata": {
        "id": "JlvP-mTovtZ2",
        "colab_type": "code",
        "outputId": "6bed8db4-3c5f-41a5-dc7f-d2263968e1d3",
        "colab": {
          "base_uri": "https://localhost:8080/",
          "height": 142
        }
      },
      "source": [
        "df_bm25 = pd.DataFrame()\n",
        "df_bm25['Query'] = queries\n",
        "df_bm25['Pontuacao BM25'] = pontos_bm25\n",
        "df_bm25['Documentos'] = documento_bm25\n",
        "\n",
        "df_bm25"
      ],
      "execution_count": 0,
      "outputs": [
        {
          "output_type": "execute_result",
          "data": {
            "text/html": [
              "<div>\n",
              "<style scoped>\n",
              "    .dataframe tbody tr th:only-of-type {\n",
              "        vertical-align: middle;\n",
              "    }\n",
              "\n",
              "    .dataframe tbody tr th {\n",
              "        vertical-align: top;\n",
              "    }\n",
              "\n",
              "    .dataframe thead th {\n",
              "        text-align: right;\n",
              "    }\n",
              "</style>\n",
              "<table border=\"1\" class=\"dataframe\">\n",
              "  <thead>\n",
              "    <tr style=\"text-align: right;\">\n",
              "      <th></th>\n",
              "      <th>Query</th>\n",
              "      <th>Pontuacao BM25</th>\n",
              "      <th>Documentos</th>\n",
              "    </tr>\n",
              "  </thead>\n",
              "  <tbody>\n",
              "    <tr>\n",
              "      <th>0</th>\n",
              "      <td>política</td>\n",
              "      <td>2.78</td>\n",
              "      <td>69</td>\n",
              "    </tr>\n",
              "    <tr>\n",
              "      <th>1</th>\n",
              "      <td>presidente</td>\n",
              "      <td>3.07</td>\n",
              "      <td>166</td>\n",
              "    </tr>\n",
              "    <tr>\n",
              "      <th>2</th>\n",
              "      <td>jair bolsonaro</td>\n",
              "      <td>15.80</td>\n",
              "      <td>207</td>\n",
              "    </tr>\n",
              "  </tbody>\n",
              "</table>\n",
              "</div>"
            ],
            "text/plain": [
              "            Query  Pontuacao BM25  Documentos\n",
              "0        política            2.78          69\n",
              "1      presidente            3.07         166\n",
              "2  jair bolsonaro           15.80         207"
            ]
          },
          "metadata": {
            "tags": []
          },
          "execution_count": 75
        }
      ]
    },
    {
      "cell_type": "markdown",
      "metadata": {
        "id": "YnL5LK6PwEHQ",
        "colab_type": "text"
      },
      "source": [
        "###Conclusão: O modelo  TF-IDF pode ser considerado mais eficiente, pois alcança resultados satisfatório e com uma grande semelhança com  algoritmos com um cálculo mais complexo \"BM25\"."
      ]
    },
    {
      "cell_type": "markdown",
      "metadata": {
        "id": "wJ2auFf_xVmW",
        "colab_type": "text"
      },
      "source": [
        "## 5.2 : índice de Jaccard"
      ]
    },
    {
      "cell_type": "code",
      "metadata": {
        "id": "HZbY8_6YxeTb",
        "colab_type": "code",
        "colab": {}
      },
      "source": [
        "def inter_size(a,b):\n",
        "  count = 0\n",
        "  for elemento in a:\n",
        "    if elemento in b:\n",
        "      count += 1\n",
        "  return count\n",
        "\n",
        "def jaccard_index(a,b):\n",
        "  n_a = len(a)\n",
        "  n_b = len(b)\n",
        "  n_ab = inter_size(a,b)\n",
        "  exp = n_a + n_b - n_ab\n",
        "  jaccard = n_ab / exp if exp != 0 else 0\n",
        "  return jaccard"
      ],
      "execution_count": 0,
      "outputs": []
    },
    {
      "cell_type": "markdown",
      "metadata": {
        "id": "Bl6mzqPJ093q",
        "colab_type": "text"
      },
      "source": [
        "### Todos os documentos"
      ]
    },
    {
      "cell_type": "code",
      "metadata": {
        "id": "bWS5blkiyjH1",
        "colab_type": "code",
        "colab": {}
      },
      "source": [
        "todos_doc = []\n",
        "todos_doc.append(documentos_binario)\n",
        "todos_doc.append(documentos_tf)\n",
        "todos_doc.append(documento_tfidf)\n",
        "todos_doc.append(documento_bm25)\n"
      ],
      "execution_count": 0,
      "outputs": []
    },
    {
      "cell_type": "code",
      "metadata": {
        "id": "2q3HiYq0zr1U",
        "colab_type": "code",
        "outputId": "1f82eec0-f1ee-45d0-dbcc-96683d097913",
        "colab": {
          "base_uri": "https://localhost:8080/",
          "height": 204
        }
      },
      "source": [
        "tabela = [['#', 'Binario', 'TF', 'TF-IDF', 'BM25']]\n",
        "\n",
        "for i in range(len(todos_doc)):\n",
        "  linha = []\n",
        "  for j in range(len(todos_doc)):\n",
        "    jaccard = jaccard_index(todos_doc[i], todos_doc[j])\n",
        "    linha.append(round(jaccard,2))\n",
        "  tabela.append(linha)\n",
        "  \n",
        "for i in range(1, len(tabela)):\n",
        "  tabela[i].insert(0, tabela[0][i])\n",
        "  \n",
        "pd.DataFrame(tabela)\n"
      ],
      "execution_count": 0,
      "outputs": [
        {
          "output_type": "execute_result",
          "data": {
            "text/html": [
              "<div>\n",
              "<style scoped>\n",
              "    .dataframe tbody tr th:only-of-type {\n",
              "        vertical-align: middle;\n",
              "    }\n",
              "\n",
              "    .dataframe tbody tr th {\n",
              "        vertical-align: top;\n",
              "    }\n",
              "\n",
              "    .dataframe thead th {\n",
              "        text-align: right;\n",
              "    }\n",
              "</style>\n",
              "<table border=\"1\" class=\"dataframe\">\n",
              "  <thead>\n",
              "    <tr style=\"text-align: right;\">\n",
              "      <th></th>\n",
              "      <th>0</th>\n",
              "      <th>1</th>\n",
              "      <th>2</th>\n",
              "      <th>3</th>\n",
              "      <th>4</th>\n",
              "    </tr>\n",
              "  </thead>\n",
              "  <tbody>\n",
              "    <tr>\n",
              "      <th>0</th>\n",
              "      <td>#</td>\n",
              "      <td>Binario</td>\n",
              "      <td>TF</td>\n",
              "      <td>TF-IDF</td>\n",
              "      <td>BM25</td>\n",
              "    </tr>\n",
              "    <tr>\n",
              "      <th>1</th>\n",
              "      <td>Binario</td>\n",
              "      <td>1</td>\n",
              "      <td>0</td>\n",
              "      <td>0</td>\n",
              "      <td>0</td>\n",
              "    </tr>\n",
              "    <tr>\n",
              "      <th>2</th>\n",
              "      <td>TF</td>\n",
              "      <td>0</td>\n",
              "      <td>1</td>\n",
              "      <td>1</td>\n",
              "      <td>1</td>\n",
              "    </tr>\n",
              "    <tr>\n",
              "      <th>3</th>\n",
              "      <td>TF-IDF</td>\n",
              "      <td>0</td>\n",
              "      <td>1</td>\n",
              "      <td>1</td>\n",
              "      <td>1</td>\n",
              "    </tr>\n",
              "    <tr>\n",
              "      <th>4</th>\n",
              "      <td>BM25</td>\n",
              "      <td>0</td>\n",
              "      <td>1</td>\n",
              "      <td>1</td>\n",
              "      <td>1</td>\n",
              "    </tr>\n",
              "  </tbody>\n",
              "</table>\n",
              "</div>"
            ],
            "text/plain": [
              "         0        1   2       3     4\n",
              "0        #  Binario  TF  TF-IDF  BM25\n",
              "1  Binario        1   0       0     0\n",
              "2       TF        0   1       1     1\n",
              "3   TF-IDF        0   1       1     1\n",
              "4     BM25        0   1       1     1"
            ]
          },
          "metadata": {
            "tags": []
          },
          "execution_count": 93
        }
      ]
    },
    {
      "cell_type": "markdown",
      "metadata": {
        "id": "DzJNdE1e1a8n",
        "colab_type": "text"
      },
      "source": [
        "###Percebemos que o modelo binario tem uma diferença enorme entre os outros algoritmos "
      ]
    }
  ]
}