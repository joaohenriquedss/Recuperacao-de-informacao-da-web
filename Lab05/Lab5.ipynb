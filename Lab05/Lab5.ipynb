{
  "nbformat": 4,
  "nbformat_minor": 0,
  "metadata": {
    "colab": {
      "name": "Lab5.ipynb",
      "version": "0.3.2",
      "provenance": [],
      "collapsed_sections": [],
      "toc_visible": true
    },
    "kernelspec": {
      "name": "python3",
      "display_name": "Python 3"
    }
  },
  "cells": [
    {
      "cell_type": "markdown",
      "metadata": {
        "id": "e27VCnPKU2IY",
        "colab_type": "text"
      },
      "source": [
        "#Parte 1 : Importando Bibliotecas"
      ]
    },
    {
      "cell_type": "code",
      "metadata": {
        "id": "bOViW0iQHf7L",
        "colab_type": "code",
        "outputId": "e6b16ae5-337f-4b54-9d7a-43eb282f6837",
        "colab": {
          "base_uri": "https://localhost:8080/",
          "height": 153
        }
      },
      "source": [
        "import pandas as pd\n",
        "import numpy as np\n",
        "import matplotlib.pyplot as plt\n",
        "import csv\n",
        "\n",
        "import re\n",
        "import nltk\n",
        "nltk.download('punkt')\n",
        "nltk.download('stopwords')\n",
        "nltk.download('averaged_perceptron_tagger')\n",
        "from nltk.tokenize import word_tokenize\n",
        "from nltk import tokenize \n",
        "from nltk.stem import RSLPStemmer\n",
        "from nltk.stem.porter import *\n",
        "import heapq\n",
        "import heapq as hp\n",
        "import time\n",
        "%matplotlib inline"
      ],
      "execution_count": 2,
      "outputs": [
        {
          "output_type": "stream",
          "text": [
            "[nltk_data] Downloading package punkt to /root/nltk_data...\n",
            "[nltk_data]   Package punkt is already up-to-date!\n",
            "[nltk_data] Downloading package stopwords to /root/nltk_data...\n",
            "[nltk_data]   Package stopwords is already up-to-date!\n",
            "[nltk_data] Downloading package averaged_perceptron_tagger to\n",
            "[nltk_data]     /root/nltk_data...\n",
            "[nltk_data]   Package averaged_perceptron_tagger is already up-to-\n",
            "[nltk_data]       date!\n"
          ],
          "name": "stdout"
        }
      ]
    },
    {
      "cell_type": "markdown",
      "metadata": {
        "id": "Jt3jjwchU95_",
        "colab_type": "text"
      },
      "source": [
        "##Lendo arquivo results csv\n",
        "\n",
        "Eliminando caracteres com tamanho 2 ou menor e deixando todos em caixa baixa salvando na variavel \"texto\""
      ]
    },
    {
      "cell_type": "code",
      "metadata": {
        "id": "TUX4BCXrHlUn",
        "colab_type": "code",
        "outputId": "8fe2fbb7-4e43-4080-d6a8-2b7db6d8a092",
        "colab": {
          "base_uri": "https://localhost:8080/",
          "height": 119
        }
      },
      "source": [
        "arquivo = pd.read_csv('results.csv')\n",
        "texto = arquivo['text']\n",
        "\n",
        "def eliminar_carac(text):\n",
        "  return re.sub(r'(\\W+|\\d+|\\b\\w{0,2}\\b)', ' ', text.lower())\n",
        "texto = texto.apply(eliminar_carac)\n",
        "\n",
        "texto = texto.apply(tokenize.word_tokenize, language='portuguese')\n",
        "palavras = []\n",
        "\n",
        "\n",
        "texto.head()"
      ],
      "execution_count": 3,
      "outputs": [
        {
          "output_type": "execute_result",
          "data": {
            "text/plain": [
              "0    [juíza, federal, ivani, silva, luz, brasília, ...\n",
              "1    [menos, horas, depois, juíza, federal, ivani, ...\n",
              "2    [quando, determinou, que, março, uma, estratég...\n",
              "3    [quando, era, pequeno, luisa, gabriel, preocup...\n",
              "4    [desde, manhã, última, segunda, feira, sucesso...\n",
              "Name: text, dtype: object"
            ]
          },
          "metadata": {
            "tags": []
          },
          "execution_count": 3
        }
      ]
    },
    {
      "cell_type": "markdown",
      "metadata": {
        "id": "zLUs12hGVLvA",
        "colab_type": "text"
      },
      "source": [
        "##Eliminando as stopwords : Usando a biblioteca nltk\n",
        "###Algoritmo Build Index : Usada para uma indexação simples"
      ]
    },
    {
      "cell_type": "code",
      "metadata": {
        "id": "7e8-YzVeHqhL",
        "colab_type": "code",
        "outputId": "2b624078-bdfa-49cd-ffdb-a1d7e6639486",
        "colab": {
          "base_uri": "https://localhost:8080/",
          "height": 204
        }
      },
      "source": [
        "stopwords = nltk.corpus.stopwords.words('portuguese')\n",
        "def eliminar_stopwords(text):\n",
        "  palavras = []\n",
        "  for palavra in text:\n",
        "    if(palavra not in stopwords):\n",
        "      palavras.append(palavra)\n",
        "  return palavras \n",
        "def build_index(arquivo):\n",
        "  numero_da_lista = 0\n",
        "  dic_index = {}\n",
        "  \n",
        "  for documento in arquivo:\n",
        "    \n",
        "    numero_da_lista += 1\n",
        "    doc = eliminar_stopwords(documento)\n",
        "    \n",
        "    for palavra in doc:\n",
        "      ocorrencia = doc.count(palavra)\n",
        "      par = (numero_da_lista, ocorrencia)\n",
        "      if palavra not in dic_index:\n",
        "        dic_index[palavra] = {}\n",
        "      \n",
        "      if par not in dic_index[palavra]:\n",
        "        \n",
        "         dic_index[palavra][numero_da_lista] = ocorrencia\n",
        "  return dic_index\n",
        "                \n",
        "index = build_index(texto)\n",
        "tabela = {'palavra' : list(index.keys()),\n",
        "       'doc|ocorrencia' : list(index.values()) }\n",
        "df = pd.DataFrame(tabela)\n",
        "df.head()"
      ],
      "execution_count": 4,
      "outputs": [
        {
          "output_type": "execute_result",
          "data": {
            "text/html": [
              "<div>\n",
              "<style scoped>\n",
              "    .dataframe tbody tr th:only-of-type {\n",
              "        vertical-align: middle;\n",
              "    }\n",
              "\n",
              "    .dataframe tbody tr th {\n",
              "        vertical-align: top;\n",
              "    }\n",
              "\n",
              "    .dataframe thead th {\n",
              "        text-align: right;\n",
              "    }\n",
              "</style>\n",
              "<table border=\"1\" class=\"dataframe\">\n",
              "  <thead>\n",
              "    <tr style=\"text-align: right;\">\n",
              "      <th></th>\n",
              "      <th>palavra</th>\n",
              "      <th>doc|ocorrencia</th>\n",
              "    </tr>\n",
              "  </thead>\n",
              "  <tbody>\n",
              "    <tr>\n",
              "      <th>0</th>\n",
              "      <td>juíza</td>\n",
              "      <td>{1: 2, 2: 1}</td>\n",
              "    </tr>\n",
              "    <tr>\n",
              "      <th>1</th>\n",
              "      <td>federal</td>\n",
              "      <td>{1: 2, 2: 2, 3: 1, 6: 1, 7: 3, 15: 1, 24: 1, 3...</td>\n",
              "    </tr>\n",
              "    <tr>\n",
              "      <th>2</th>\n",
              "      <td>ivani</td>\n",
              "      <td>{1: 1, 2: 1}</td>\n",
              "    </tr>\n",
              "    <tr>\n",
              "      <th>3</th>\n",
              "      <td>silva</td>\n",
              "      <td>{1: 3, 2: 1, 6: 1, 14: 2, 26: 1, 73: 1, 76: 1,...</td>\n",
              "    </tr>\n",
              "    <tr>\n",
              "      <th>4</th>\n",
              "      <td>luz</td>\n",
              "      <td>{1: 3, 2: 1, 9: 1, 17: 1, 32: 2, 78: 1, 79: 1,...</td>\n",
              "    </tr>\n",
              "  </tbody>\n",
              "</table>\n",
              "</div>"
            ],
            "text/plain": [
              "   palavra                                     doc|ocorrencia\n",
              "0    juíza                                       {1: 2, 2: 1}\n",
              "1  federal  {1: 2, 2: 2, 3: 1, 6: 1, 7: 3, 15: 1, 24: 1, 3...\n",
              "2    ivani                                       {1: 1, 2: 1}\n",
              "3    silva  {1: 3, 2: 1, 6: 1, 14: 2, 26: 1, 73: 1, 76: 1,...\n",
              "4      luz  {1: 3, 2: 1, 9: 1, 17: 1, 32: 2, 78: 1, 79: 1,..."
            ]
          },
          "metadata": {
            "tags": []
          },
          "execution_count": 4
        }
      ]
    },
    {
      "cell_type": "markdown",
      "metadata": {
        "id": "cL_eHNlKVufG",
        "colab_type": "text"
      },
      "source": [
        "## Número de documentos que contém cada termo"
      ]
    },
    {
      "cell_type": "code",
      "metadata": {
        "id": "PwwYRMzRHwh7",
        "colab_type": "code",
        "colab": {}
      },
      "source": [
        "def qdt_dois_documentos(a, b):\n",
        "  docs_a = index[a].keys()\n",
        "  docs_b = index[b].keys()\n",
        "  count = 0\n",
        "  for doc in docs_a:\n",
        "    if doc in docs_b:\n",
        "      count += 1\n",
        "  return count  \n",
        "\n",
        "def total_docs():\n",
        "  return arquivo.text.count()"
      ],
      "execution_count": 0,
      "outputs": []
    },
    {
      "cell_type": "markdown",
      "metadata": {
        "id": "tCgm9o5aa-Mf",
        "colab_type": "text"
      },
      "source": [
        "##Calculando as top-10 palavras mais associadas a cada uma dessas 5 palavras de acordo com 4 métricas"
      ]
    },
    {
      "cell_type": "markdown",
      "metadata": {
        "id": "5FPWWINeY0-E",
        "colab_type": "text"
      },
      "source": [
        "## Primeira Métrica : (MIM) Mutual Information (Informação mútua) favorecendo termos de baixa frequência"
      ]
    },
    {
      "cell_type": "code",
      "metadata": {
        "id": "4TvNA3VkHzl3",
        "colab_type": "code",
        "colab": {}
      },
      "source": [
        "def mim(a, b):\n",
        "  n_a = len(index[a].keys())\n",
        "  n_b = len(index[b].keys())\n",
        "  n_ab = qdt_dois_documentos(a, b)\n",
        "  return (n_ab / (n_a * n_b))"
      ],
      "execution_count": 0,
      "outputs": []
    },
    {
      "cell_type": "markdown",
      "metadata": {
        "id": "FKJ-loXpb5Ol",
        "colab_type": "text"
      },
      "source": [
        "##Segunda Métrica : (EMIM) Expected Mutual Information Measure corrige esse problema"
      ]
    },
    {
      "cell_type": "code",
      "metadata": {
        "id": "79PrDEKZcZS5",
        "colab_type": "code",
        "colab": {}
      },
      "source": [
        "def emim(a, b):\n",
        "  n_a = len(index[a].keys())\n",
        "  n_b = len(index[b].keys())\n",
        "  n_ab = qdt_dois_documentos(a, b)\n",
        "  n = total_docs()\n",
        "  exp = (n * mim(a,b))\n",
        "  return (n_ab * np.log(exp) if exp != 0 else 0)\n",
        "  "
      ],
      "execution_count": 0,
      "outputs": []
    },
    {
      "cell_type": "markdown",
      "metadata": {
        "id": "gscXcHiwe3J6",
        "colab_type": "text"
      },
      "source": [
        "## Terceira Métrica : (χ 2 ) Pearson’s Chi-squared"
      ]
    },
    {
      "cell_type": "code",
      "metadata": {
        "id": "gkQuGopae89T",
        "colab_type": "code",
        "colab": {}
      },
      "source": [
        "def chi(a, b):\n",
        "  n_a = len(index[a].keys())\n",
        "  n_b = len(index[b].keys())\n",
        "  n_ab = qdt_dois_documentos(a, b)\n",
        "  n = total_docs()\n",
        "  return (n_ab - (1 / n) * n_a * n_b) ** 2 / (n_a * n_b)\n",
        "   \n",
        "  "
      ],
      "execution_count": 0,
      "outputs": []
    },
    {
      "cell_type": "markdown",
      "metadata": {
        "id": "3Eaub5sPfoPl",
        "colab_type": "text"
      },
      "source": [
        "##Quarta Métrica : (Dice)"
      ]
    },
    {
      "cell_type": "code",
      "metadata": {
        "id": "x-jpEPiKft3a",
        "colab_type": "code",
        "colab": {}
      },
      "source": [
        "def dice(a, b):\n",
        "  n_a = len(index[a].keys())\n",
        "  n_b = len(index[b].keys())\n",
        "  n_ab = qdt_dois_documentos(a, b)\n",
        "  return n_ab / (n_a + n_b)"
      ],
      "execution_count": 0,
      "outputs": []
    },
    {
      "cell_type": "markdown",
      "metadata": {
        "id": "J3DU7JNn6qk9",
        "colab_type": "text"
      },
      "source": [
        "## 5 Termos "
      ]
    },
    {
      "cell_type": "code",
      "metadata": {
        "id": "ObRSY_Wb6puM",
        "colab_type": "code",
        "colab": {}
      },
      "source": [
        "termos = [\"política\", \"presidente\", \"bolsonaro\", \"maduro\", \"onu\"]"
      ],
      "execution_count": 0,
      "outputs": []
    },
    {
      "cell_type": "code",
      "metadata": {
        "id": "GL2mN10SH2m-",
        "colab_type": "code",
        "colab": {}
      },
      "source": [
        "def metrica_total(term, metric):\n",
        "  pares = []\n",
        "  for palavra in index.keys():\n",
        "    if metric == 'mim':\n",
        "      result = mim(termo, palavra)\n",
        "    elif metric == 'emim':\n",
        "      result = emim(termo, palavra)\n",
        "    elif metric == 'chi':\n",
        "      result = chi(termo, palavra)\n",
        "    elif metric == 'dice':\n",
        "      result = dice(termo, palavra)\n",
        "    pares.append((palavra, result))   \n",
        "  # ordenção por valor de metrica\n",
        "  pares = sorted(pares, key = lambda x: x[1], reverse=True)\n",
        "  return pares\n",
        "\n",
        "\n",
        "termos_metricas = {}\n",
        "for termo in termos:\n",
        "  metricas = {}\n",
        "  metricas['mim'] = metrica_total(termo, 'mim')\n",
        "  metricas['emim'] = metrica_total(termo, 'emim')\n",
        "  metricas['chi'] = metrica_total(termo, 'chi')\n",
        "  metricas['dice'] = metrica_total(termo, 'dice')\n",
        "  termos_metricas[termo] = metricas\n"
      ],
      "execution_count": 0,
      "outputs": []
    },
    {
      "cell_type": "code",
      "metadata": {
        "id": "dzxHOjfBs1bM",
        "colab_type": "code",
        "colab": {}
      },
      "source": [
        "def tabela_metricas(termo):\n",
        "  mim = [k for k,_ in termos_metricas[termo]['mim']]\n",
        "  emim = [k for k,_ in termos_metricas[termo]['emim']]\n",
        "  chi = [k for k,_ in termos_metricas[termo]['chi']]\n",
        "  dice = [k for k,_ in termos_metricas[termo]['dice']]\n",
        "  tabela = {'MIM' : mim,\n",
        "       'EMIM' : emim ,\n",
        "       'X²' : chi    ,\n",
        "       'DICE': dice    }\n",
        "  df = pd.DataFrame(tabela)\n",
        "  return df"
      ],
      "execution_count": 0,
      "outputs": []
    },
    {
      "cell_type": "code",
      "metadata": {
        "id": "fl6VyeQus6eJ",
        "colab_type": "code",
        "outputId": "6794e7ae-b8cf-483b-e762-f21dcbe76731",
        "colab": {
          "base_uri": "https://localhost:8080/",
          "height": 359
        }
      },
      "source": [
        "# termos = política\n",
        "tabela_metricas(termos[0]).head(10)"
      ],
      "execution_count": 16,
      "outputs": [
        {
          "output_type": "execute_result",
          "data": {
            "text/html": [
              "<div>\n",
              "<style scoped>\n",
              "    .dataframe tbody tr th:only-of-type {\n",
              "        vertical-align: middle;\n",
              "    }\n",
              "\n",
              "    .dataframe tbody tr th {\n",
              "        vertical-align: top;\n",
              "    }\n",
              "\n",
              "    .dataframe thead th {\n",
              "        text-align: right;\n",
              "    }\n",
              "</style>\n",
              "<table border=\"1\" class=\"dataframe\">\n",
              "  <thead>\n",
              "    <tr style=\"text-align: right;\">\n",
              "      <th></th>\n",
              "      <th>MIM</th>\n",
              "      <th>EMIM</th>\n",
              "      <th>X²</th>\n",
              "      <th>DICE</th>\n",
              "    </tr>\n",
              "  </thead>\n",
              "  <tbody>\n",
              "    <tr>\n",
              "      <th>0</th>\n",
              "      <td>comemorarem</td>\n",
              "      <td>política</td>\n",
              "      <td>política</td>\n",
              "      <td>política</td>\n",
              "    </tr>\n",
              "    <tr>\n",
              "      <th>1</th>\n",
              "      <td>instaurou</td>\n",
              "      <td>político</td>\n",
              "      <td>político</td>\n",
              "      <td>país</td>\n",
              "    </tr>\n",
              "    <tr>\n",
              "      <th>2</th>\n",
              "      <td>citando</td>\n",
              "      <td>cada</td>\n",
              "      <td>desigualdade</td>\n",
              "      <td>outros</td>\n",
              "    </tr>\n",
              "    <tr>\n",
              "      <th>3</th>\n",
              "      <td>alusiva</td>\n",
              "      <td>país</td>\n",
              "      <td>cientista</td>\n",
              "      <td>vez</td>\n",
              "    </tr>\n",
              "    <tr>\n",
              "      <th>4</th>\n",
              "      <td>compatível</td>\n",
              "      <td>bolsonaro</td>\n",
              "      <td>eleições</td>\n",
              "      <td>cada</td>\n",
              "    </tr>\n",
              "    <tr>\n",
              "      <th>5</th>\n",
              "      <td>desobedece</td>\n",
              "      <td>nacional</td>\n",
              "      <td>força</td>\n",
              "      <td>governo</td>\n",
              "    </tr>\n",
              "    <tr>\n",
              "      <th>6</th>\n",
              "      <td>ignora</td>\n",
              "      <td>governo</td>\n",
              "      <td>problemas</td>\n",
              "      <td>menos</td>\n",
              "    </tr>\n",
              "    <tr>\n",
              "      <th>7</th>\n",
              "      <td>interamericana</td>\n",
              "      <td>estado</td>\n",
              "      <td>eleição</td>\n",
              "      <td>pode</td>\n",
              "    </tr>\n",
              "    <tr>\n",
              "      <th>8</th>\n",
              "      <td>condenou</td>\n",
              "      <td>outros</td>\n",
              "      <td>estar</td>\n",
              "      <td>desde</td>\n",
              "    </tr>\n",
              "    <tr>\n",
              "      <th>9</th>\n",
              "      <td>magistrada</td>\n",
              "      <td>estar</td>\n",
              "      <td>economia</td>\n",
              "      <td>parte</td>\n",
              "    </tr>\n",
              "  </tbody>\n",
              "</table>\n",
              "</div>"
            ],
            "text/plain": [
              "              MIM       EMIM            X²      DICE\n",
              "0     comemorarem   política      política  política\n",
              "1       instaurou   político      político      país\n",
              "2         citando       cada  desigualdade    outros\n",
              "3         alusiva       país     cientista       vez\n",
              "4      compatível  bolsonaro      eleições      cada\n",
              "5      desobedece   nacional         força   governo\n",
              "6          ignora    governo     problemas     menos\n",
              "7  interamericana     estado       eleição      pode\n",
              "8        condenou     outros         estar     desde\n",
              "9      magistrada      estar      economia     parte"
            ]
          },
          "metadata": {
            "tags": []
          },
          "execution_count": 16
        }
      ]
    },
    {
      "cell_type": "code",
      "metadata": {
        "id": "8fvFR2zl-TmV",
        "colab_type": "code",
        "outputId": "e936baa9-1a0a-47a7-e0f2-63554e8612db",
        "colab": {
          "base_uri": "https://localhost:8080/",
          "height": 359
        }
      },
      "source": [
        "#termos = presidente\n",
        "tabela_metricas(termos[1]).head(10)"
      ],
      "execution_count": 17,
      "outputs": [
        {
          "output_type": "execute_result",
          "data": {
            "text/html": [
              "<div>\n",
              "<style scoped>\n",
              "    .dataframe tbody tr th:only-of-type {\n",
              "        vertical-align: middle;\n",
              "    }\n",
              "\n",
              "    .dataframe tbody tr th {\n",
              "        vertical-align: top;\n",
              "    }\n",
              "\n",
              "    .dataframe thead th {\n",
              "        text-align: right;\n",
              "    }\n",
              "</style>\n",
              "<table border=\"1\" class=\"dataframe\">\n",
              "  <thead>\n",
              "    <tr style=\"text-align: right;\">\n",
              "      <th></th>\n",
              "      <th>MIM</th>\n",
              "      <th>EMIM</th>\n",
              "      <th>X²</th>\n",
              "      <th>DICE</th>\n",
              "    </tr>\n",
              "  </thead>\n",
              "  <tbody>\n",
              "    <tr>\n",
              "      <th>0</th>\n",
              "      <td>juíza</td>\n",
              "      <td>presidente</td>\n",
              "      <td>presidente</td>\n",
              "      <td>presidente</td>\n",
              "    </tr>\n",
              "    <tr>\n",
              "      <th>1</th>\n",
              "      <td>ivani</td>\n",
              "      <td>bolsonaro</td>\n",
              "      <td>bolsonaro</td>\n",
              "      <td>feira</td>\n",
              "    </tr>\n",
              "    <tr>\n",
              "      <th>2</th>\n",
              "      <td>comemorarem</td>\n",
              "      <td>ministro</td>\n",
              "      <td>ministro</td>\n",
              "      <td>governo</td>\n",
              "    </tr>\n",
              "    <tr>\n",
              "      <th>3</th>\n",
              "      <td>instaurou</td>\n",
              "      <td>governo</td>\n",
              "      <td>deputado</td>\n",
              "      <td>bolsonaro</td>\n",
              "    </tr>\n",
              "    <tr>\n",
              "      <th>4</th>\n",
              "      <td>presidente</td>\n",
              "      <td>feira</td>\n",
              "      <td>presidência</td>\n",
              "      <td>ainda</td>\n",
              "    </tr>\n",
              "    <tr>\n",
              "      <th>5</th>\n",
              "      <td>citando</td>\n",
              "      <td>político</td>\n",
              "      <td>governo</td>\n",
              "      <td>sobre</td>\n",
              "    </tr>\n",
              "    <tr>\n",
              "      <th>6</th>\n",
              "      <td>rememorar</td>\n",
              "      <td>segurança</td>\n",
              "      <td>político</td>\n",
              "      <td>país</td>\n",
              "    </tr>\n",
              "    <tr>\n",
              "      <th>7</th>\n",
              "      <td>alusiva</td>\n",
              "      <td>afirmou</td>\n",
              "      <td>câmara</td>\n",
              "      <td>ser</td>\n",
              "    </tr>\n",
              "    <tr>\n",
              "      <th>8</th>\n",
              "      <td>compatível</td>\n",
              "      <td>deputado</td>\n",
              "      <td>vice</td>\n",
              "      <td>ministro</td>\n",
              "    </tr>\n",
              "    <tr>\n",
              "      <th>9</th>\n",
              "      <td>promovido</td>\n",
              "      <td>câmara</td>\n",
              "      <td>segurança</td>\n",
              "      <td>ter</td>\n",
              "    </tr>\n",
              "  </tbody>\n",
              "</table>\n",
              "</div>"
            ],
            "text/plain": [
              "           MIM        EMIM           X²        DICE\n",
              "0        juíza  presidente   presidente  presidente\n",
              "1        ivani   bolsonaro    bolsonaro       feira\n",
              "2  comemorarem    ministro     ministro     governo\n",
              "3    instaurou     governo     deputado   bolsonaro\n",
              "4   presidente       feira  presidência       ainda\n",
              "5      citando    político      governo       sobre\n",
              "6    rememorar   segurança     político        país\n",
              "7      alusiva     afirmou       câmara         ser\n",
              "8   compatível    deputado         vice    ministro\n",
              "9    promovido      câmara    segurança         ter"
            ]
          },
          "metadata": {
            "tags": []
          },
          "execution_count": 17
        }
      ]
    },
    {
      "cell_type": "code",
      "metadata": {
        "id": "yzjzqWEQ-WoA",
        "colab_type": "code",
        "outputId": "84cfc92a-a746-4c02-9a6f-5228a4035f1c",
        "colab": {
          "base_uri": "https://localhost:8080/",
          "height": 359
        }
      },
      "source": [
        "#termos = bolsonaro\n",
        "tabela_metricas(termos[2]).head(10)"
      ],
      "execution_count": 18,
      "outputs": [
        {
          "output_type": "execute_result",
          "data": {
            "text/html": [
              "<div>\n",
              "<style scoped>\n",
              "    .dataframe tbody tr th:only-of-type {\n",
              "        vertical-align: middle;\n",
              "    }\n",
              "\n",
              "    .dataframe tbody tr th {\n",
              "        vertical-align: top;\n",
              "    }\n",
              "\n",
              "    .dataframe thead th {\n",
              "        text-align: right;\n",
              "    }\n",
              "</style>\n",
              "<table border=\"1\" class=\"dataframe\">\n",
              "  <thead>\n",
              "    <tr style=\"text-align: right;\">\n",
              "      <th></th>\n",
              "      <th>MIM</th>\n",
              "      <th>EMIM</th>\n",
              "      <th>X²</th>\n",
              "      <th>DICE</th>\n",
              "    </tr>\n",
              "  </thead>\n",
              "  <tbody>\n",
              "    <tr>\n",
              "      <th>0</th>\n",
              "      <td>juíza</td>\n",
              "      <td>bolsonaro</td>\n",
              "      <td>bolsonaro</td>\n",
              "      <td>bolsonaro</td>\n",
              "    </tr>\n",
              "    <tr>\n",
              "      <th>1</th>\n",
              "      <td>ivani</td>\n",
              "      <td>presidente</td>\n",
              "      <td>jair</td>\n",
              "      <td>presidente</td>\n",
              "    </tr>\n",
              "    <tr>\n",
              "      <th>2</th>\n",
              "      <td>comemorarem</td>\n",
              "      <td>brasil</td>\n",
              "      <td>psl</td>\n",
              "      <td>brasil</td>\n",
              "    </tr>\n",
              "    <tr>\n",
              "      <th>3</th>\n",
              "      <td>instaurou</td>\n",
              "      <td>governo</td>\n",
              "      <td>previdência</td>\n",
              "      <td>governo</td>\n",
              "    </tr>\n",
              "    <tr>\n",
              "      <th>4</th>\n",
              "      <td>jair</td>\n",
              "      <td>brasileiro</td>\n",
              "      <td>reforma</td>\n",
              "      <td>brasileiro</td>\n",
              "    </tr>\n",
              "    <tr>\n",
              "      <th>5</th>\n",
              "      <td>bolsonaro</td>\n",
              "      <td>ministro</td>\n",
              "      <td>planalto</td>\n",
              "      <td>ministro</td>\n",
              "    </tr>\n",
              "    <tr>\n",
              "      <th>6</th>\n",
              "      <td>citando</td>\n",
              "      <td>reforma</td>\n",
              "      <td>brasileiro</td>\n",
              "      <td>político</td>\n",
              "    </tr>\n",
              "    <tr>\n",
              "      <th>7</th>\n",
              "      <td>rememorar</td>\n",
              "      <td>político</td>\n",
              "      <td>brasil</td>\n",
              "      <td>brasileira</td>\n",
              "    </tr>\n",
              "    <tr>\n",
              "      <th>8</th>\n",
              "      <td>alusiva</td>\n",
              "      <td>psl</td>\n",
              "      <td>deputado</td>\n",
              "      <td>ainda</td>\n",
              "    </tr>\n",
              "    <tr>\n",
              "      <th>9</th>\n",
              "      <td>compatível</td>\n",
              "      <td>jair</td>\n",
              "      <td>presidente</td>\n",
              "      <td>paulo</td>\n",
              "    </tr>\n",
              "  </tbody>\n",
              "</table>\n",
              "</div>"
            ],
            "text/plain": [
              "           MIM        EMIM           X²        DICE\n",
              "0        juíza   bolsonaro    bolsonaro   bolsonaro\n",
              "1        ivani  presidente         jair  presidente\n",
              "2  comemorarem      brasil          psl      brasil\n",
              "3    instaurou     governo  previdência     governo\n",
              "4         jair  brasileiro      reforma  brasileiro\n",
              "5    bolsonaro    ministro     planalto    ministro\n",
              "6      citando     reforma   brasileiro    político\n",
              "7    rememorar    político       brasil  brasileira\n",
              "8      alusiva         psl     deputado       ainda\n",
              "9   compatível        jair   presidente       paulo"
            ]
          },
          "metadata": {
            "tags": []
          },
          "execution_count": 18
        }
      ]
    },
    {
      "cell_type": "code",
      "metadata": {
        "id": "RRYnmtkL-Y3f",
        "colab_type": "code",
        "outputId": "8dd7d78f-d88e-47fc-f6ce-6e7a0939f98d",
        "colab": {
          "base_uri": "https://localhost:8080/",
          "height": 359
        }
      },
      "source": [
        "#termos = maduro\n",
        "tabela_metricas(termos[3]).head(10)"
      ],
      "execution_count": 19,
      "outputs": [
        {
          "output_type": "execute_result",
          "data": {
            "text/html": [
              "<div>\n",
              "<style scoped>\n",
              "    .dataframe tbody tr th:only-of-type {\n",
              "        vertical-align: middle;\n",
              "    }\n",
              "\n",
              "    .dataframe tbody tr th {\n",
              "        vertical-align: top;\n",
              "    }\n",
              "\n",
              "    .dataframe thead th {\n",
              "        text-align: right;\n",
              "    }\n",
              "</style>\n",
              "<table border=\"1\" class=\"dataframe\">\n",
              "  <thead>\n",
              "    <tr style=\"text-align: right;\">\n",
              "      <th></th>\n",
              "      <th>MIM</th>\n",
              "      <th>EMIM</th>\n",
              "      <th>X²</th>\n",
              "      <th>DICE</th>\n",
              "    </tr>\n",
              "  </thead>\n",
              "  <tbody>\n",
              "    <tr>\n",
              "      <th>0</th>\n",
              "      <td>nariño</td>\n",
              "      <td>maduro</td>\n",
              "      <td>maduro</td>\n",
              "      <td>maduro</td>\n",
              "    </tr>\n",
              "    <tr>\n",
              "      <th>1</th>\n",
              "      <td>abraçam</td>\n",
              "      <td>guaidó</td>\n",
              "      <td>guaidó</td>\n",
              "      <td>guaidó</td>\n",
              "    </tr>\n",
              "    <tr>\n",
              "      <th>2</th>\n",
              "      <td>arrepio</td>\n",
              "      <td>venezuela</td>\n",
              "      <td>chávez</td>\n",
              "      <td>chávez</td>\n",
              "    </tr>\n",
              "    <tr>\n",
              "      <th>3</th>\n",
              "      <td>emitidos</td>\n",
              "      <td>chávez</td>\n",
              "      <td>chavismo</td>\n",
              "      <td>chavismo</td>\n",
              "    </tr>\n",
              "    <tr>\n",
              "      <th>4</th>\n",
              "      <td>desejado</td>\n",
              "      <td>chavismo</td>\n",
              "      <td>venezuela</td>\n",
              "      <td>venezuela</td>\n",
              "    </tr>\n",
              "    <tr>\n",
              "      <th>5</th>\n",
              "      <td>desliza</td>\n",
              "      <td>hugo</td>\n",
              "      <td>interino</td>\n",
              "      <td>hugo</td>\n",
              "    </tr>\n",
              "    <tr>\n",
              "      <th>6</th>\n",
              "      <td>épico</td>\n",
              "      <td>interino</td>\n",
              "      <td>bolivariano</td>\n",
              "      <td>interino</td>\n",
              "    </tr>\n",
              "    <tr>\n",
              "      <th>7</th>\n",
              "      <td>contidas</td>\n",
              "      <td>assembleia</td>\n",
              "      <td>hugo</td>\n",
              "      <td>venezuelano</td>\n",
              "    </tr>\n",
              "    <tr>\n",
              "      <th>8</th>\n",
              "      <td>repleto</td>\n",
              "      <td>venezuelano</td>\n",
              "      <td>venezuelano</td>\n",
              "      <td>bolivariano</td>\n",
              "    </tr>\n",
              "    <tr>\n",
              "      <th>9</th>\n",
              "      <td>confidências</td>\n",
              "      <td>bolivariano</td>\n",
              "      <td>nicolás</td>\n",
              "      <td>assembleia</td>\n",
              "    </tr>\n",
              "  </tbody>\n",
              "</table>\n",
              "</div>"
            ],
            "text/plain": [
              "            MIM         EMIM           X²         DICE\n",
              "0        nariño       maduro       maduro       maduro\n",
              "1       abraçam       guaidó       guaidó       guaidó\n",
              "2       arrepio    venezuela       chávez       chávez\n",
              "3      emitidos       chávez     chavismo     chavismo\n",
              "4      desejado     chavismo    venezuela    venezuela\n",
              "5       desliza         hugo     interino         hugo\n",
              "6         épico     interino  bolivariano     interino\n",
              "7      contidas   assembleia         hugo  venezuelano\n",
              "8       repleto  venezuelano  venezuelano  bolivariano\n",
              "9  confidências  bolivariano      nicolás   assembleia"
            ]
          },
          "metadata": {
            "tags": []
          },
          "execution_count": 19
        }
      ]
    },
    {
      "cell_type": "code",
      "metadata": {
        "id": "AHv80Zdy-bIN",
        "colab_type": "code",
        "outputId": "9acb7735-4d81-4f3a-f09e-efbe9c374960",
        "colab": {
          "base_uri": "https://localhost:8080/",
          "height": 359
        }
      },
      "source": [
        "#termos = onu\n",
        "tabela_metricas(termos[4]).head(10)"
      ],
      "execution_count": 20,
      "outputs": [
        {
          "output_type": "execute_result",
          "data": {
            "text/html": [
              "<div>\n",
              "<style scoped>\n",
              "    .dataframe tbody tr th:only-of-type {\n",
              "        vertical-align: middle;\n",
              "    }\n",
              "\n",
              "    .dataframe tbody tr th {\n",
              "        vertical-align: top;\n",
              "    }\n",
              "\n",
              "    .dataframe thead th {\n",
              "        text-align: right;\n",
              "    }\n",
              "</style>\n",
              "<table border=\"1\" class=\"dataframe\">\n",
              "  <thead>\n",
              "    <tr style=\"text-align: right;\">\n",
              "      <th></th>\n",
              "      <th>MIM</th>\n",
              "      <th>EMIM</th>\n",
              "      <th>X²</th>\n",
              "      <th>DICE</th>\n",
              "    </tr>\n",
              "  </thead>\n",
              "  <tbody>\n",
              "    <tr>\n",
              "      <th>0</th>\n",
              "      <td>enriquecer</td>\n",
              "      <td>onu</td>\n",
              "      <td>onu</td>\n",
              "      <td>onu</td>\n",
              "    </tr>\n",
              "    <tr>\n",
              "      <th>1</th>\n",
              "      <td>controversa</td>\n",
              "      <td>áfrica</td>\n",
              "      <td>áfrica</td>\n",
              "      <td>áfrica</td>\n",
              "    </tr>\n",
              "    <tr>\n",
              "      <th>2</th>\n",
              "      <td>fabian</td>\n",
              "      <td>resoluções</td>\n",
              "      <td>resoluções</td>\n",
              "      <td>resoluções</td>\n",
              "    </tr>\n",
              "    <tr>\n",
              "      <th>3</th>\n",
              "      <td>salvioli</td>\n",
              "      <td>internacional</td>\n",
              "      <td>aparecendo</td>\n",
              "      <td>muçulmanos</td>\n",
              "    </tr>\n",
              "    <tr>\n",
              "      <th>4</th>\n",
              "      <td>onu</td>\n",
              "      <td>organização</td>\n",
              "      <td>preceitos</td>\n",
              "      <td>árabes</td>\n",
              "    </tr>\n",
              "    <tr>\n",
              "      <th>5</th>\n",
              "      <td>reverbera</td>\n",
              "      <td>internacionais</td>\n",
              "      <td>guatemala</td>\n",
              "      <td>jerusalém</td>\n",
              "    </tr>\n",
              "    <tr>\n",
              "      <th>6</th>\n",
              "      <td>napolitano</td>\n",
              "      <td>muçulmanos</td>\n",
              "      <td>árabe</td>\n",
              "      <td>israelenses</td>\n",
              "    </tr>\n",
              "    <tr>\n",
              "      <th>7</th>\n",
              "      <td>distorce</td>\n",
              "      <td>árabes</td>\n",
              "      <td>checa</td>\n",
              "      <td>alimentos</td>\n",
              "    </tr>\n",
              "    <tr>\n",
              "      <th>8</th>\n",
              "      <td>factual</td>\n",
              "      <td>entretanto</td>\n",
              "      <td>valas</td>\n",
              "      <td>aparecendo</td>\n",
              "    </tr>\n",
              "    <tr>\n",
              "      <th>9</th>\n",
              "      <td>consensuais</td>\n",
              "      <td>acordos</td>\n",
              "      <td>nuances</td>\n",
              "      <td>seguindo</td>\n",
              "    </tr>\n",
              "  </tbody>\n",
              "</table>\n",
              "</div>"
            ],
            "text/plain": [
              "           MIM            EMIM          X²         DICE\n",
              "0   enriquecer             onu         onu          onu\n",
              "1  controversa          áfrica      áfrica       áfrica\n",
              "2       fabian      resoluções  resoluções   resoluções\n",
              "3     salvioli   internacional  aparecendo   muçulmanos\n",
              "4          onu     organização   preceitos       árabes\n",
              "5    reverbera  internacionais   guatemala    jerusalém\n",
              "6   napolitano      muçulmanos       árabe  israelenses\n",
              "7     distorce          árabes       checa    alimentos\n",
              "8      factual      entretanto       valas   aparecendo\n",
              "9  consensuais         acordos     nuances     seguindo"
            ]
          },
          "metadata": {
            "tags": []
          },
          "execution_count": 20
        }
      ]
    },
    {
      "cell_type": "markdown",
      "metadata": {
        "id": "WKEo7lWBmnTa",
        "colab_type": "text"
      },
      "source": [
        "## A melhor medida de Associação de Termos foi a Pearson’s Chi-squared (χ2) pós ela além de comparar o número de co-ocorrência das palavras com o número esperado se fossem independentes. E faz a normalização com essas comparações pelo valor esperado."
      ]
    },
    {
      "cell_type": "markdown",
      "metadata": {
        "id": "utCzjsVtntEd",
        "colab_type": "text"
      },
      "source": [
        "# Parte 2 : Consulta Conjutiva"
      ]
    },
    {
      "cell_type": "code",
      "metadata": {
        "id": "CmI9gt8Zu9Fj",
        "colab_type": "code",
        "colab": {}
      },
      "source": [
        "\n",
        "def consulta_conjutiva(busca, index, k):\n",
        "  listas_invertidas = []\n",
        "  results = []\n",
        "  \n",
        "  for term in busca.split():\n",
        "    if term in index.keys():\n",
        "      inverte = index[term]\n",
        "      listas_invertidas.append(inverte)\n",
        "  \n",
        "  doc = [item for inverte in listas_invertidas for item in inverte.items()]\n",
        "  doc = sorted(doc, key = lambda x: x[0])\n",
        "  tamanho = len(doc)\n",
        "  tamanho_i = len(listas_invertidas)\n",
        "  \n",
        "  for i in range(tamanho):\n",
        "    pontos = 0\n",
        "    d,f = doc.pop()\n",
        "    repete = 1\n",
        "    \n",
        "    for document,frequencia in doc:\n",
        "      if document == d:\n",
        "        pontos += frequencia\n",
        "        repete += 1\n",
        "    \n",
        "    if pontos != 0: \n",
        "      if repete == tamanho_i:\n",
        "        pontos += f\n",
        "        hp.heappush(results, (pontos, d))\n",
        "   \n",
        "  return [(d,s) for (s,d) in hp.nlargest(k, results)]"
      ],
      "execution_count": 0,
      "outputs": []
    },
    {
      "cell_type": "markdown",
      "metadata": {
        "id": "bN5sICM9tO5G",
        "colab_type": "text"
      },
      "source": [
        "## termos = [\"política\", \"presidente\", \"bolsonaro\", \"maduro\", \"onu\"]\n",
        "## top-3  top-5  top-10"
      ]
    },
    {
      "cell_type": "code",
      "metadata": {
        "id": "8BbxznjPl0h8",
        "colab_type": "code",
        "colab": {
          "base_uri": "https://localhost:8080/",
          "height": 667
        },
        "outputId": "9ac07907-3239-42c2-e9f7-b6b1542e4c5a"
      },
      "source": [
        "def expansao_consulta(term, metric, top):\n",
        "  nova_consulta = term + ' ' + ' '.join([word for word,_ in termos_metricas[term][metric][0:top]])\n",
        "  return (nova_consulta, consulta_conjutiva(nova_consulta, index, 10))\n",
        "\n",
        "termo_a = []\n",
        "consultas = []\n",
        "results = []\n",
        "top = []\n",
        "\n",
        "for termo in termos:\n",
        "  for i in [3, 5, 10]:\n",
        "    consulta, result = expansao_consulta(termo, 'chi', i)\n",
        "    termo_a.append(termo)\n",
        "    consultas.append(consulta)\n",
        "    results.append(result)\n",
        "    top.append(i)\n",
        "\n",
        "\n",
        "data = {'Top k': top, \n",
        "        'Termo': termo_a, \n",
        "        'Resultados': results,\n",
        "        'Consulta Expandida': consultas\n",
        "        }\n",
        "df = pd.DataFrame(data)\n",
        "df"
      ],
      "execution_count": 90,
      "outputs": [
        {
          "output_type": "execute_result",
          "data": {
            "text/html": [
              "<div>\n",
              "<style scoped>\n",
              "    .dataframe tbody tr th:only-of-type {\n",
              "        vertical-align: middle;\n",
              "    }\n",
              "\n",
              "    .dataframe tbody tr th {\n",
              "        vertical-align: top;\n",
              "    }\n",
              "\n",
              "    .dataframe thead th {\n",
              "        text-align: right;\n",
              "    }\n",
              "</style>\n",
              "<table border=\"1\" class=\"dataframe\">\n",
              "  <thead>\n",
              "    <tr style=\"text-align: right;\">\n",
              "      <th></th>\n",
              "      <th>Top k</th>\n",
              "      <th>Termo</th>\n",
              "      <th>Resultados</th>\n",
              "      <th>Consulta Expandida</th>\n",
              "    </tr>\n",
              "  </thead>\n",
              "  <tbody>\n",
              "    <tr>\n",
              "      <th>0</th>\n",
              "      <td>3</td>\n",
              "      <td>política</td>\n",
              "      <td>[(165, 14), (173, 13), (34, 8)]</td>\n",
              "      <td>política política político desigualdade</td>\n",
              "    </tr>\n",
              "    <tr>\n",
              "      <th>1</th>\n",
              "      <td>5</td>\n",
              "      <td>política</td>\n",
              "      <td>[]</td>\n",
              "      <td>política política político desigualdade cientista eleições</td>\n",
              "    </tr>\n",
              "    <tr>\n",
              "      <th>2</th>\n",
              "      <td>10</td>\n",
              "      <td>política</td>\n",
              "      <td>[]</td>\n",
              "      <td>política política político desigualdade cientista eleições força problemas eleição estar economia</td>\n",
              "    </tr>\n",
              "    <tr>\n",
              "      <th>3</th>\n",
              "      <td>3</td>\n",
              "      <td>presidente</td>\n",
              "      <td>[(151, 73), (166, 71), (19, 56), (205, 30), (235, 23), (225, 23), (42, 23), (215, 22), (25, 22), (209, 21)]</td>\n",
              "      <td>presidente presidente bolsonaro ministro</td>\n",
              "    </tr>\n",
              "    <tr>\n",
              "      <th>4</th>\n",
              "      <td>5</td>\n",
              "      <td>presidente</td>\n",
              "      <td>[(151, 76), (205, 34), (115, 20), (95, 12)]</td>\n",
              "      <td>presidente presidente bolsonaro ministro deputado presidência</td>\n",
              "    </tr>\n",
              "    <tr>\n",
              "      <th>5</th>\n",
              "      <td>10</td>\n",
              "      <td>presidente</td>\n",
              "      <td>[(115, 35)]</td>\n",
              "      <td>presidente presidente bolsonaro ministro deputado presidência governo político câmara vice segurança</td>\n",
              "    </tr>\n",
              "    <tr>\n",
              "      <th>6</th>\n",
              "      <td>3</td>\n",
              "      <td>bolsonaro</td>\n",
              "      <td>[(151, 99), (207, 85), (166, 77), (231, 6), (220, 6)]</td>\n",
              "      <td>bolsonaro bolsonaro jair psl</td>\n",
              "    </tr>\n",
              "    <tr>\n",
              "      <th>7</th>\n",
              "      <td>5</td>\n",
              "      <td>bolsonaro</td>\n",
              "      <td>[(166, 87), (231, 10)]</td>\n",
              "      <td>bolsonaro bolsonaro jair psl previdência reforma</td>\n",
              "    </tr>\n",
              "    <tr>\n",
              "      <th>8</th>\n",
              "      <td>10</td>\n",
              "      <td>bolsonaro</td>\n",
              "      <td>[]</td>\n",
              "      <td>bolsonaro bolsonaro jair psl previdência reforma planalto brasileiro brasil deputado presidente</td>\n",
              "    </tr>\n",
              "    <tr>\n",
              "      <th>9</th>\n",
              "      <td>3</td>\n",
              "      <td>maduro</td>\n",
              "      <td>[(65, 19), (99, 18), (247, 11), (106, 7)]</td>\n",
              "      <td>maduro maduro guaidó chávez</td>\n",
              "    </tr>\n",
              "    <tr>\n",
              "      <th>10</th>\n",
              "      <td>5</td>\n",
              "      <td>maduro</td>\n",
              "      <td>[(65, 26), (99, 25), (106, 16)]</td>\n",
              "      <td>maduro maduro guaidó chávez chavismo venezuela</td>\n",
              "    </tr>\n",
              "    <tr>\n",
              "      <th>11</th>\n",
              "      <td>10</td>\n",
              "      <td>maduro</td>\n",
              "      <td>[]</td>\n",
              "      <td>maduro maduro guaidó chávez chavismo venezuela interino bolivariano hugo venezuelano nicolás</td>\n",
              "    </tr>\n",
              "    <tr>\n",
              "      <th>12</th>\n",
              "      <td>3</td>\n",
              "      <td>onu</td>\n",
              "      <td>[]</td>\n",
              "      <td>onu onu áfrica resoluções</td>\n",
              "    </tr>\n",
              "    <tr>\n",
              "      <th>13</th>\n",
              "      <td>5</td>\n",
              "      <td>onu</td>\n",
              "      <td>[]</td>\n",
              "      <td>onu onu áfrica resoluções aparecendo preceitos</td>\n",
              "    </tr>\n",
              "    <tr>\n",
              "      <th>14</th>\n",
              "      <td>10</td>\n",
              "      <td>onu</td>\n",
              "      <td>[]</td>\n",
              "      <td>onu onu áfrica resoluções aparecendo preceitos guatemala árabe checa valas nuances</td>\n",
              "    </tr>\n",
              "  </tbody>\n",
              "</table>\n",
              "</div>"
            ],
            "text/plain": [
              "    Top k  ...                                                                                    Consulta Expandida\n",
              "0       3  ...                                                               política política político desigualdade\n",
              "1       5  ...                                            política política político desigualdade cientista eleições\n",
              "2      10  ...     política política político desigualdade cientista eleições força problemas eleição estar economia\n",
              "3       3  ...                                                              presidente presidente bolsonaro ministro\n",
              "4       5  ...                                         presidente presidente bolsonaro ministro deputado presidência\n",
              "5      10  ...  presidente presidente bolsonaro ministro deputado presidência governo político câmara vice segurança\n",
              "6       3  ...                                                                          bolsonaro bolsonaro jair psl\n",
              "7       5  ...                                                      bolsonaro bolsonaro jair psl previdência reforma\n",
              "8      10  ...       bolsonaro bolsonaro jair psl previdência reforma planalto brasileiro brasil deputado presidente\n",
              "9       3  ...                                                                           maduro maduro guaidó chávez\n",
              "10      5  ...                                                        maduro maduro guaidó chávez chavismo venezuela\n",
              "11     10  ...          maduro maduro guaidó chávez chavismo venezuela interino bolivariano hugo venezuelano nicolás\n",
              "12      3  ...                                                                             onu onu áfrica resoluções\n",
              "13      5  ...                                                        onu onu áfrica resoluções aparecendo preceitos\n",
              "14     10  ...                    onu onu áfrica resoluções aparecendo preceitos guatemala árabe checa valas nuances\n",
              "\n",
              "[15 rows x 4 columns]"
            ]
          },
          "metadata": {
            "tags": []
          },
          "execution_count": 90
        }
      ]
    }
  ]
}