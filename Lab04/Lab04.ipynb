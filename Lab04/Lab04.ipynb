{
  "nbformat": 4,
  "nbformat_minor": 0,
  "metadata": {
    "colab": {
      "name": "Lab04.ipynb",
      "version": "0.3.2",
      "provenance": [],
      "collapsed_sections": [],
      "toc_visible": true
    },
    "kernelspec": {
      "name": "python3",
      "display_name": "Python 3"
    }
  },
  "cells": [
    {
      "cell_type": "markdown",
      "metadata": {
        "id": "rklGXq2Wn1vi",
        "colab_type": "text"
      },
      "source": [
        "## Parte 1 :   Importando Bibliotecas que serão usadas"
      ]
    },
    {
      "cell_type": "code",
      "metadata": {
        "id": "SbC_IPx9ndWT",
        "colab_type": "code",
        "outputId": "95bc0051-c731-42b6-af39-25d6e82c7a12",
        "colab": {
          "base_uri": "https://localhost:8080/",
          "height": 153
        }
      },
      "source": [
        "import pandas as pd\n",
        "import numpy as np\n",
        "import matplotlib.pyplot as plt\n",
        "import csv\n",
        "\n",
        "import re\n",
        "import nltk\n",
        "nltk.download('punkt')\n",
        "nltk.download('stopwords')\n",
        "nltk.download('averaged_perceptron_tagger')\n",
        "from nltk.tokenize import word_tokenize\n",
        "from nltk import tokenize \n",
        "from nltk.stem import RSLPStemmer\n",
        "from nltk.stem.porter import *\n",
        "import heapq\n",
        "import heapq as hp\n",
        "import time\n",
        "%matplotlib inline\n"
      ],
      "execution_count": 307,
      "outputs": [
        {
          "output_type": "stream",
          "text": [
            "[nltk_data] Downloading package punkt to /root/nltk_data...\n",
            "[nltk_data]   Package punkt is already up-to-date!\n",
            "[nltk_data] Downloading package stopwords to /root/nltk_data...\n",
            "[nltk_data]   Package stopwords is already up-to-date!\n",
            "[nltk_data] Downloading package averaged_perceptron_tagger to\n",
            "[nltk_data]     /root/nltk_data...\n",
            "[nltk_data]   Package averaged_perceptron_tagger is already up-to-\n",
            "[nltk_data]       date!\n"
          ],
          "name": "stdout"
        }
      ]
    },
    {
      "cell_type": "markdown",
      "metadata": {
        "id": "q4mT4Ca-oYUc",
        "colab_type": "text"
      },
      "source": [
        "\n",
        "## Lendo arquivo csv\n",
        "## Eliminando caracteres com tamanho 2 ou menor e deixando todos em caixa baixa\n",
        "\n",
        "\n"
      ]
    },
    {
      "cell_type": "code",
      "metadata": {
        "id": "jJPHsnJPoWNn",
        "colab_type": "code",
        "outputId": "50d1cd08-1813-4596-be91-00062c23d51f",
        "colab": {
          "base_uri": "https://localhost:8080/",
          "height": 119
        }
      },
      "source": [
        "arquivo = pd.read_csv('results.csv')\n",
        "texto = arquivo['text']\n",
        "\n",
        "def eliminar_carac(text):\n",
        "  return re.sub(r'(\\W+|\\d+|\\b\\w{0,2}\\b)', ' ', text.lower())\n",
        "texto = texto.apply(eliminar_carac)\n",
        "\n",
        "texto = texto.apply(tokenize.word_tokenize, language='portuguese')\n",
        "palavras = []\n",
        "\n",
        "\n",
        "texto.head()"
      ],
      "execution_count": 308,
      "outputs": [
        {
          "output_type": "execute_result",
          "data": {
            "text/plain": [
              "0    [juíza, federal, ivani, silva, luz, brasília, ...\n",
              "1    [menos, horas, depois, juíza, federal, ivani, ...\n",
              "2    [quando, determinou, que, março, uma, estratég...\n",
              "3    [quando, era, pequeno, luisa, gabriel, preocup...\n",
              "4    [desde, manhã, última, segunda, feira, sucesso...\n",
              "Name: text, dtype: object"
            ]
          },
          "metadata": {
            "tags": []
          },
          "execution_count": 308
        }
      ]
    },
    {
      "cell_type": "markdown",
      "metadata": {
        "id": "ycNPrAO9pGRN",
        "colab_type": "text"
      },
      "source": [
        "## Eliminando as stopwords : Usando a biblioteca nltk\n",
        "## Algoritmo Build Index : Usada para uma indexação simples\n"
      ]
    },
    {
      "cell_type": "code",
      "metadata": {
        "id": "GpYdzOHmpmoD",
        "colab_type": "code",
        "outputId": "6e8f1819-ba10-49e6-dd79-41f3467ca9cb",
        "colab": {
          "base_uri": "https://localhost:8080/",
          "height": 204
        }
      },
      "source": [
        "stopwords = nltk.corpus.stopwords.words('portuguese')\n",
        "\n",
        "def eliminar_stopwords(text):\n",
        "  palavras = []\n",
        "  for palavra in text:\n",
        "    if(palavra not in stopwords):\n",
        "      palavras.append(palavra)\n",
        "  return palavras \n",
        "\n",
        "def build_index(arquivo):\n",
        "  numero_da_lista = 0\n",
        "  dic_index = {}\n",
        "  \n",
        "  for documento in arquivo:\n",
        "    \n",
        "    numero_da_lista += 1\n",
        "    doc = eliminar_stopwords(documento)\n",
        "    \n",
        "    for palavra in doc:\n",
        "      ocorrencia = doc.count(palavra)\n",
        "      par = (numero_da_lista, ocorrencia)\n",
        "      if palavra not in dic_index:\n",
        "        dic_index[palavra] = []\n",
        "      \n",
        "      if par not in dic_index[palavra]:\n",
        "         dic_index[palavra].append(par)\n",
        "  return dic_index\n",
        "                \n",
        "index = build_index(texto)\n",
        "tabela = {'palavra' : list(index.keys()),\n",
        "       'doc|ocorrencia' : list(index.values()) }\n",
        "df = pd.DataFrame(tabela)\n",
        "df.head()\n",
        "\n"
      ],
      "execution_count": 312,
      "outputs": [
        {
          "output_type": "execute_result",
          "data": {
            "text/html": [
              "<div>\n",
              "<style scoped>\n",
              "    .dataframe tbody tr th:only-of-type {\n",
              "        vertical-align: middle;\n",
              "    }\n",
              "\n",
              "    .dataframe tbody tr th {\n",
              "        vertical-align: top;\n",
              "    }\n",
              "\n",
              "    .dataframe thead th {\n",
              "        text-align: right;\n",
              "    }\n",
              "</style>\n",
              "<table border=\"1\" class=\"dataframe\">\n",
              "  <thead>\n",
              "    <tr style=\"text-align: right;\">\n",
              "      <th></th>\n",
              "      <th>palavra</th>\n",
              "      <th>doc|ocorrencia</th>\n",
              "    </tr>\n",
              "  </thead>\n",
              "  <tbody>\n",
              "    <tr>\n",
              "      <th>0</th>\n",
              "      <td>juíza</td>\n",
              "      <td>[(1, 2), (2, 1)]</td>\n",
              "    </tr>\n",
              "    <tr>\n",
              "      <th>1</th>\n",
              "      <td>federal</td>\n",
              "      <td>[(1, 2), (2, 2), (3, 1), (6, 1), (7, 3), (15, ...</td>\n",
              "    </tr>\n",
              "    <tr>\n",
              "      <th>2</th>\n",
              "      <td>ivani</td>\n",
              "      <td>[(1, 1), (2, 1)]</td>\n",
              "    </tr>\n",
              "    <tr>\n",
              "      <th>3</th>\n",
              "      <td>silva</td>\n",
              "      <td>[(1, 3), (2, 1), (6, 1), (14, 2), (26, 1), (73...</td>\n",
              "    </tr>\n",
              "    <tr>\n",
              "      <th>4</th>\n",
              "      <td>luz</td>\n",
              "      <td>[(1, 3), (2, 1), (9, 1), (17, 1), (32, 2), (78...</td>\n",
              "    </tr>\n",
              "  </tbody>\n",
              "</table>\n",
              "</div>"
            ],
            "text/plain": [
              "   palavra                                     doc|ocorrencia\n",
              "0    juíza                                   [(1, 2), (2, 1)]\n",
              "1  federal  [(1, 2), (2, 2), (3, 1), (6, 1), (7, 3), (15, ...\n",
              "2    ivani                                   [(1, 1), (2, 1)]\n",
              "3    silva  [(1, 3), (2, 1), (6, 1), (14, 2), (26, 1), (73...\n",
              "4      luz  [(1, 3), (2, 1), (9, 1), (17, 1), (32, 2), (78..."
            ]
          },
          "metadata": {
            "tags": []
          },
          "execution_count": 312
        }
      ]
    },
    {
      "cell_type": "markdown",
      "metadata": {
        "id": "8UdBAmzi_GUg",
        "colab_type": "text"
      },
      "source": [
        "# Parte 2 : Implementação do processamento de consulta documento-por-vez e termo-por-vez\n",
        "\n"
      ]
    },
    {
      "cell_type": "markdown",
      "metadata": {
        "id": "DptnMIvpO6UM",
        "colab_type": "text"
      },
      "source": [
        "## Documento Por Vez : Calcula escores completos para documentos processando todas as listas de termos, um documento por vez"
      ]
    },
    {
      "cell_type": "code",
      "metadata": {
        "id": "cFZOWJ9cOps3",
        "colab_type": "code",
        "colab": {
          "base_uri": "https://localhost:8080/",
          "height": 187
        },
        "outputId": "3f84db48-4633-4d0b-ce70-a9f378908101"
      },
      "source": [
        "def document_por_vez(Q, I, k):\n",
        "    L = []\n",
        "    R = []\n",
        "    for word in Q.split(\" \"):\n",
        "        if word in I.keys():\n",
        "            L.append(I[word])\n",
        "    for document in range(1, len(texto)+1):\n",
        "        sd = 0\n",
        "        for l in L:\n",
        "            for i in l:\n",
        "                if (i[0] == document):\n",
        "                    sd += i[1]\n",
        "                    break\n",
        "        if (sd != 0):\n",
        "          heapq.heappush(R, (sd, document))\n",
        "    return heapq.nlargest(k, R)\n",
        "document_por_vez(\"onu\", index, 10)"
      ],
      "execution_count": 313,
      "outputs": [
        {
          "output_type": "execute_result",
          "data": {
            "text/plain": [
              "[(2, 101),\n",
              " (2, 64),\n",
              " (2, 29),\n",
              " (1, 249),\n",
              " (1, 185),\n",
              " (1, 97),\n",
              " (1, 70),\n",
              " (1, 42),\n",
              " (1, 8),\n",
              " (1, 3)]"
            ]
          },
          "metadata": {
            "tags": []
          },
          "execution_count": 313
        }
      ]
    },
    {
      "cell_type": "markdown",
      "metadata": {
        "id": "rVCaCNS4PHmP",
        "colab_type": "text"
      },
      "source": [
        "## Termo Por Vez: Acumula escores para documentos processando listas de termos, um termo por vez"
      ]
    },
    {
      "cell_type": "code",
      "metadata": {
        "id": "8bYBdSVmPKI5",
        "colab_type": "code",
        "colab": {
          "base_uri": "https://localhost:8080/",
          "height": 187
        },
        "outputId": "82cb7252-3b8d-42cd-a0d9-e13e881ed7cc"
      },
      "source": [
        "def termo_por_vez(Q, I, k):\n",
        "    A = {}\n",
        "    L = []\n",
        "    R = []\n",
        "    for word in Q.split(\" \"):\n",
        "        if word in I.keys():\n",
        "            L.append(I[word])\n",
        "    for l in L:\n",
        "        for post in l:\n",
        "            d = post[0]\n",
        "            freq = post[1]\n",
        "            if (d in A.keys()):\n",
        "                A[d] += freq\n",
        "            else:\n",
        "                A[d] = freq\n",
        "    for (d, ad) in A.items():\n",
        "        sd = ad\n",
        "        heapq.heappush(R, (sd, d))\n",
        "    return heapq.nlargest(k, R)\n",
        "\n",
        "termo_por_vez(\"onu\", index, 10)"
      ],
      "execution_count": 314,
      "outputs": [
        {
          "output_type": "execute_result",
          "data": {
            "text/plain": [
              "[(2, 101),\n",
              " (2, 64),\n",
              " (2, 29),\n",
              " (1, 249),\n",
              " (1, 185),\n",
              " (1, 97),\n",
              " (1, 70),\n",
              " (1, 42),\n",
              " (1, 8),\n",
              " (1, 3)]"
            ]
          },
          "metadata": {
            "tags": []
          },
          "execution_count": 314
        }
      ]
    },
    {
      "cell_type": "markdown",
      "metadata": {
        "id": "Xjun_k-Yhud1",
        "colab_type": "text"
      },
      "source": [
        "##Definindo consultas de um termo "
      ]
    },
    {
      "cell_type": "code",
      "metadata": {
        "id": "hVgoUdkhPNQF",
        "colab_type": "code",
        "colab": {}
      },
      "source": [
        "queries = [\"política\", \"presidente\", \"bolsonaro\", \"maduro\", \"onu\"]"
      ],
      "execution_count": 0,
      "outputs": []
    },
    {
      "cell_type": "markdown",
      "metadata": {
        "id": "prJ6MhgNh94a",
        "colab_type": "text"
      },
      "source": [
        "## Executa 5 consultas em cada algoritmo retornando os top-10 "
      ]
    },
    {
      "cell_type": "code",
      "metadata": {
        "id": "wAthutPAPQ9C",
        "colab_type": "code",
        "colab": {}
      },
      "source": [
        "  # Documento\n",
        "  result_doc = []\n",
        "  time_doc = []\n",
        "  # Termo\n",
        "  result_term = []\n",
        "  time_term = []\n",
        "  k = 10\n",
        "  for query in queries:\n",
        "    # Documento por vez\n",
        "    inicio_doc = time.time()\n",
        "    result_doc.append(document_por_vez(query, index, k))\n",
        "    fim_doc = time.time()\n",
        "    time_doc.append(fim_doc - inicio_doc)\n",
        "    # Termo Por Vez\n",
        "    inicio_term = time.time()\n",
        "    result_term.append(termo_por_vez(query, index, k))\n",
        "    fim_term = time.time()\n",
        "    time_term.append(fim_term - inicio_term)\n",
        "  # criação da tabela\n",
        "  tabela = pd.DataFrame()\n",
        "  tabela['query'] =  queries\n",
        "  tabela['documento_por_vez'] = result_doc\n",
        "  tabela['termo_por_vez'] = result_term\n",
        "  tabela['comparando'] = tabela.documento_por_vez == tabela.termo_por_vez"
      ],
      "execution_count": 0,
      "outputs": []
    },
    {
      "cell_type": "markdown",
      "metadata": {
        "id": "mNcLR3rniIlS",
        "colab_type": "text"
      },
      "source": [
        "## Resultado Top-10 documentos"
      ]
    },
    {
      "cell_type": "code",
      "metadata": {
        "id": "bOBVaT3gimUu",
        "colab_type": "code",
        "colab": {
          "base_uri": "https://localhost:8080/",
          "height": 204
        },
        "outputId": "9d3ed7ba-88a8-42f4-b290-c3d3ab87f76c"
      },
      "source": [
        "tabela\n",
        "# tabela.to_csv('queries.csv')"
      ],
      "execution_count": 326,
      "outputs": [
        {
          "output_type": "execute_result",
          "data": {
            "text/html": [
              "<div>\n",
              "<style scoped>\n",
              "    .dataframe tbody tr th:only-of-type {\n",
              "        vertical-align: middle;\n",
              "    }\n",
              "\n",
              "    .dataframe tbody tr th {\n",
              "        vertical-align: top;\n",
              "    }\n",
              "\n",
              "    .dataframe thead th {\n",
              "        text-align: right;\n",
              "    }\n",
              "</style>\n",
              "<table border=\"1\" class=\"dataframe\">\n",
              "  <thead>\n",
              "    <tr style=\"text-align: right;\">\n",
              "      <th></th>\n",
              "      <th>query</th>\n",
              "      <th>documento_por_vez</th>\n",
              "      <th>termo_por_vez</th>\n",
              "      <th>comparando</th>\n",
              "    </tr>\n",
              "  </thead>\n",
              "  <tbody>\n",
              "    <tr>\n",
              "      <th>0</th>\n",
              "      <td>política</td>\n",
              "      <td>[(9, 69), (7, 235), (7, 166), (6, 204), (5, 17...</td>\n",
              "      <td>[(9, 69), (7, 235), (7, 166), (6, 204), (5, 17...</td>\n",
              "      <td>True</td>\n",
              "    </tr>\n",
              "    <tr>\n",
              "      <th>1</th>\n",
              "      <td>presidente</td>\n",
              "      <td>[(21, 63), (16, 166), (12, 151), (11, 216), (1...</td>\n",
              "      <td>[(21, 63), (16, 166), (12, 151), (11, 216), (1...</td>\n",
              "      <td>True</td>\n",
              "    </tr>\n",
              "    <tr>\n",
              "      <th>2</th>\n",
              "      <td>bolsonaro</td>\n",
              "      <td>[(46, 151), (37, 166), (35, 207), (26, 19), (1...</td>\n",
              "      <td>[(46, 151), (37, 166), (35, 207), (26, 19), (1...</td>\n",
              "      <td>True</td>\n",
              "    </tr>\n",
              "    <tr>\n",
              "      <th>3</th>\n",
              "      <td>maduro</td>\n",
              "      <td>[(11, 150), (7, 99), (6, 65), (5, 88), (4, 247...</td>\n",
              "      <td>[(11, 150), (7, 99), (6, 65), (5, 88), (4, 247...</td>\n",
              "      <td>True</td>\n",
              "    </tr>\n",
              "    <tr>\n",
              "      <th>4</th>\n",
              "      <td>onu</td>\n",
              "      <td>[(2, 101), (2, 64), (2, 29), (1, 249), (1, 185...</td>\n",
              "      <td>[(2, 101), (2, 64), (2, 29), (1, 249), (1, 185...</td>\n",
              "      <td>True</td>\n",
              "    </tr>\n",
              "  </tbody>\n",
              "</table>\n",
              "</div>"
            ],
            "text/plain": [
              "        query                                  documento_por_vez  \\\n",
              "0    política  [(9, 69), (7, 235), (7, 166), (6, 204), (5, 17...   \n",
              "1  presidente  [(21, 63), (16, 166), (12, 151), (11, 216), (1...   \n",
              "2   bolsonaro  [(46, 151), (37, 166), (35, 207), (26, 19), (1...   \n",
              "3      maduro  [(11, 150), (7, 99), (6, 65), (5, 88), (4, 247...   \n",
              "4         onu  [(2, 101), (2, 64), (2, 29), (1, 249), (1, 185...   \n",
              "\n",
              "                                       termo_por_vez  comparando  \n",
              "0  [(9, 69), (7, 235), (7, 166), (6, 204), (5, 17...        True  \n",
              "1  [(21, 63), (16, 166), (12, 151), (11, 216), (1...        True  \n",
              "2  [(46, 151), (37, 166), (35, 207), (26, 19), (1...        True  \n",
              "3  [(11, 150), (7, 99), (6, 65), (5, 88), (4, 247...        True  \n",
              "4  [(2, 101), (2, 64), (2, 29), (1, 249), (1, 185...        True  "
            ]
          },
          "metadata": {
            "tags": []
          },
          "execution_count": 326
        }
      ]
    },
    {
      "cell_type": "markdown",
      "metadata": {
        "id": "ZQbvTuSmeWJN",
        "colab_type": "text"
      },
      "source": [
        "##Ao compararmos as consultas  podemos perceber que temos o mesmo resultado, indicando que o algoritimos estão concordando entre si."
      ]
    },
    {
      "cell_type": "markdown",
      "metadata": {
        "id": "Yd40YBbQZRIZ",
        "colab_type": "text"
      },
      "source": [
        "## Comparando os tempos médios de execução"
      ]
    },
    {
      "cell_type": "code",
      "metadata": {
        "id": "cf8BClVOWZfg",
        "colab_type": "code",
        "colab": {
          "base_uri": "https://localhost:8080/",
          "height": 204
        },
        "outputId": "cf8eb01c-a1b6-476e-801a-4d618a1bb446"
      },
      "source": [
        "tabela_comparar = {\n",
        "    'tempo médio documento': time_doc,\n",
        "    'tempo médio termo' : time_term\n",
        "}\n",
        "\n",
        "tabela_df = pd.DataFrame(tabela_comparar)\n",
        "tabela_df"
      ],
      "execution_count": 319,
      "outputs": [
        {
          "output_type": "execute_result",
          "data": {
            "text/html": [
              "<div>\n",
              "<style scoped>\n",
              "    .dataframe tbody tr th:only-of-type {\n",
              "        vertical-align: middle;\n",
              "    }\n",
              "\n",
              "    .dataframe tbody tr th {\n",
              "        vertical-align: top;\n",
              "    }\n",
              "\n",
              "    .dataframe thead th {\n",
              "        text-align: right;\n",
              "    }\n",
              "</style>\n",
              "<table border=\"1\" class=\"dataframe\">\n",
              "  <thead>\n",
              "    <tr style=\"text-align: right;\">\n",
              "      <th></th>\n",
              "      <th>tempo médio documento</th>\n",
              "      <th>tempo médio termo</th>\n",
              "    </tr>\n",
              "  </thead>\n",
              "  <tbody>\n",
              "    <tr>\n",
              "      <th>0</th>\n",
              "      <td>0.001326</td>\n",
              "      <td>0.000110</td>\n",
              "    </tr>\n",
              "    <tr>\n",
              "      <th>1</th>\n",
              "      <td>0.001811</td>\n",
              "      <td>0.000145</td>\n",
              "    </tr>\n",
              "    <tr>\n",
              "      <th>2</th>\n",
              "      <td>0.001055</td>\n",
              "      <td>0.000090</td>\n",
              "    </tr>\n",
              "    <tr>\n",
              "      <th>3</th>\n",
              "      <td>0.000245</td>\n",
              "      <td>0.000019</td>\n",
              "    </tr>\n",
              "    <tr>\n",
              "      <th>4</th>\n",
              "      <td>0.000225</td>\n",
              "      <td>0.000012</td>\n",
              "    </tr>\n",
              "  </tbody>\n",
              "</table>\n",
              "</div>"
            ],
            "text/plain": [
              "   tempo médio documento  tempo médio termo\n",
              "0               0.001326           0.000110\n",
              "1               0.001811           0.000145\n",
              "2               0.001055           0.000090\n",
              "3               0.000245           0.000019\n",
              "4               0.000225           0.000012"
            ]
          },
          "metadata": {
            "tags": []
          },
          "execution_count": 319
        }
      ]
    },
    {
      "cell_type": "markdown",
      "metadata": {
        "id": "u9yRoUZ8ZaWz",
        "colab_type": "text"
      },
      "source": [
        "##Chegando a conclusão que o tempo medio do algoritmo termo-por-vez  é menor que documento-por-vez "
      ]
    },
    {
      "cell_type": "markdown",
      "metadata": {
        "id": "x_EvVWOSbqtT",
        "colab_type": "text"
      },
      "source": [
        "#Parte 3 :  Consulta conjuntiva"
      ]
    },
    {
      "cell_type": "markdown",
      "metadata": {
        "id": "6nkp_n3JdcUP",
        "colab_type": "text"
      },
      "source": [
        "## Implemente uma das versões de consulta conjuntiva (AND) "
      ]
    },
    {
      "cell_type": "code",
      "metadata": {
        "id": "AeOjHFIwPNXt",
        "colab_type": "code",
        "colab": {
          "base_uri": "https://localhost:8080/",
          "height": 34
        },
        "outputId": "f5d78d19-5fa0-4520-85e7-a6ae6ffc0939"
      },
      "source": [
        "def termConj(Q, invertedIndex, k):\n",
        "  L = []\n",
        "  R = []\n",
        "\n",
        "  for term in Q.split():\n",
        "    if term in invertedIndex.keys():\n",
        "        L.append(invertedIndex[term])\n",
        "  \n",
        "  termos = [item for sublist in L for item in sublist]\n",
        "  termos.sort()\n",
        "  for i in range(len(termos)):\n",
        "    score = 0\n",
        "    d = termos.pop()\n",
        "    aux = 1\n",
        "    for index in termos:\n",
        "      if index[0] == d[0]:\n",
        "        score += index[1] + d[1]\n",
        "        aux += 1\n",
        "    if score != 0 and aux == len(L):\n",
        "      hp.heappush(R, (d[0], score))\n",
        "  \n",
        "\n",
        "  return hp.nlargest(k, R)\n",
        "\n",
        "termConj('com o escritório em Jerusalém  o presidente brasileiro evita por ora seguir os passos dos', index, 5)"
      ],
      "execution_count": 320,
      "outputs": [
        {
          "output_type": "execute_result",
          "data": {
            "text/plain": [
              "[(8, 41)]"
            ]
          },
          "metadata": {
            "tags": []
          },
          "execution_count": 320
        }
      ]
    },
    {
      "cell_type": "markdown",
      "metadata": {
        "id": "_8dfZBVc2Vrj",
        "colab_type": "text"
      },
      "source": [
        "## Criando novas consultas"
      ]
    },
    {
      "cell_type": "code",
      "metadata": {
        "id": "8e9Vr_48gSFd",
        "colab_type": "code",
        "colab": {
          "base_uri": "https://localhost:8080/",
          "height": 235
        },
        "outputId": "1c7de7c9-4327-479b-b282-9cfbc9d05bd0"
      },
      "source": [
        "queries = ['livros de historia','crise na bolsa', \n",
        "           'família biológica mesmo quando convalescia e recebia ameaças', \n",
        "           'Com o escritório em Jerusalém  o presidente brasileiro evita por ora seguir os passos dos', \n",
        "           'juíza federal ivani silva', \n",
        "           'maduro ditadura']\n",
        "\n",
        "resultado = []\n",
        "  \n",
        "for consulta in queries:\n",
        "  resultado.append(termConj(consulta, index, 10))\n",
        "\n",
        "consulta = {\n",
        "    'Query': queries,\n",
        "    'Resultado(\"AND\")' : resultado\n",
        "}\n",
        "\n",
        "df = pd.DataFrame(consulta)\n",
        "df\n",
        "# df.to_csv('parte3.csv')\n",
        "\n",
        "  "
      ],
      "execution_count": 323,
      "outputs": [
        {
          "output_type": "execute_result",
          "data": {
            "text/html": [
              "<div>\n",
              "<style scoped>\n",
              "    .dataframe tbody tr th:only-of-type {\n",
              "        vertical-align: middle;\n",
              "    }\n",
              "\n",
              "    .dataframe tbody tr th {\n",
              "        vertical-align: top;\n",
              "    }\n",
              "\n",
              "    .dataframe thead th {\n",
              "        text-align: right;\n",
              "    }\n",
              "</style>\n",
              "<table border=\"1\" class=\"dataframe\">\n",
              "  <thead>\n",
              "    <tr style=\"text-align: right;\">\n",
              "      <th></th>\n",
              "      <th>Query</th>\n",
              "      <th>Resultado(\"AND\")</th>\n",
              "    </tr>\n",
              "  </thead>\n",
              "  <tbody>\n",
              "    <tr>\n",
              "      <th>0</th>\n",
              "      <td>livros de historia</td>\n",
              "      <td>[(208, 2), (3, 4)]</td>\n",
              "    </tr>\n",
              "    <tr>\n",
              "      <th>1</th>\n",
              "      <td>crise na bolsa</td>\n",
              "      <td>[(215, 4), (143, 6), (138, 7), (84, 2), (69, 8)]</td>\n",
              "    </tr>\n",
              "    <tr>\n",
              "      <th>2</th>\n",
              "      <td>família biológica mesmo quando convalescia e r...</td>\n",
              "      <td>[(6, 42)]</td>\n",
              "    </tr>\n",
              "    <tr>\n",
              "      <th>3</th>\n",
              "      <td>Com o escritório em Jerusalém  o presidente br...</td>\n",
              "      <td>[(8, 41)]</td>\n",
              "    </tr>\n",
              "    <tr>\n",
              "      <th>4</th>\n",
              "      <td>juíza federal ivani silva</td>\n",
              "      <td>[(2, 9), (1, 14)]</td>\n",
              "    </tr>\n",
              "    <tr>\n",
              "      <th>5</th>\n",
              "      <td>maduro ditadura</td>\n",
              "      <td>[(63, 3)]</td>\n",
              "    </tr>\n",
              "  </tbody>\n",
              "</table>\n",
              "</div>"
            ],
            "text/plain": [
              "                                               Query  \\\n",
              "0                                 livros de historia   \n",
              "1                                     crise na bolsa   \n",
              "2  família biológica mesmo quando convalescia e r...   \n",
              "3  Com o escritório em Jerusalém  o presidente br...   \n",
              "4                          juíza federal ivani silva   \n",
              "5                                    maduro ditadura   \n",
              "\n",
              "                                   Resultado(\"AND\")  \n",
              "0                                [(208, 2), (3, 4)]  \n",
              "1  [(215, 4), (143, 6), (138, 7), (84, 2), (69, 8)]  \n",
              "2                                         [(6, 42)]  \n",
              "3                                         [(8, 41)]  \n",
              "4                                 [(2, 9), (1, 14)]  \n",
              "5                                         [(63, 3)]  "
            ]
          },
          "metadata": {
            "tags": []
          },
          "execution_count": 323
        }
      ]
    },
    {
      "cell_type": "markdown",
      "metadata": {
        "id": "ePP5k4KI2ufN",
        "colab_type": "text"
      },
      "source": [
        "## Quando  utilizo a função termConj com uma pequena frase os documentos que tiverem essa parte serão retornados . E quando uso Frases grandes que só estar em um documento ele retorna apenas um documento. Isso deixa claro que a função está correta"
      ]
    },
    {
      "cell_type": "code",
      "metadata": {
        "id": "QlYZUp315njP",
        "colab_type": "code",
        "colab": {
          "base_uri": "https://localhost:8080/",
          "height": 34
        },
        "outputId": "73b9a46e-87c0-4616-b3d7-dbeeb2e5f38c"
      },
      "source": [
        "# Exemplo frase grande\n",
        "\n",
        "termConj('As seções de treinamento foram registradas pelo cineasta na Marine Corps Base 29 Palms  na Califórnia  em 2009. Esse trabalho também aborda a combinação entre computação gráfica e  em programas utilizados', index, 5)"
      ],
      "execution_count": 324,
      "outputs": [
        {
          "output_type": "execute_result",
          "data": {
            "text/plain": [
              "[(12, 56)]"
            ]
          },
          "metadata": {
            "tags": []
          },
          "execution_count": 324
        }
      ]
    },
    {
      "cell_type": "code",
      "metadata": {
        "id": "9FV7hS2a50oO",
        "colab_type": "code",
        "colab": {
          "base_uri": "https://localhost:8080/",
          "height": 34
        },
        "outputId": "1c73386d-5ded-4c63-b398-8e8a2df4c516"
      },
      "source": [
        "# Exemplo frase pequena\n",
        "termConj('presidente brasileiro', index, 5)"
      ],
      "execution_count": 325,
      "outputs": [
        {
          "output_type": "execute_result",
          "data": {
            "text/plain": [
              "[(238, 5), (237, 3), (231, 4), (230, 3), (225, 6)]"
            ]
          },
          "metadata": {
            "tags": []
          },
          "execution_count": 325
        }
      ]
    }
  ]
}