{
  "nbformat": 4,
  "nbformat_minor": 0,
  "metadata": {
    "colab": {
      "name": "Lab07.ipynb",
      "version": "0.3.2",
      "provenance": [],
      "collapsed_sections": [],
      "toc_visible": true
    },
    "kernelspec": {
      "name": "python3",
      "display_name": "Python 3"
    }
  },
  "cells": [
    {
      "cell_type": "markdown",
      "metadata": {
        "id": "Tbrz5fcjwNDK",
        "colab_type": "text"
      },
      "source": [
        "#Importando Bibliotecas"
      ]
    },
    {
      "cell_type": "code",
      "metadata": {
        "id": "AY2n51BrT_4h",
        "colab_type": "code",
        "outputId": "fb1acf51-d3ff-43e5-d84d-f653fbdb9fec",
        "colab": {
          "base_uri": "https://localhost:8080/",
          "height": 153
        }
      },
      "source": [
        "import pandas as pd\n",
        "import numpy as np\n",
        "import matplotlib.pyplot as plt\n",
        "import csv\n",
        "\n",
        "import re\n",
        "import nltk\n",
        "nltk.download('punkt')\n",
        "nltk.download('stopwords')\n",
        "nltk.download('averaged_perceptron_tagger')\n",
        "from nltk.tokenize import word_tokenize\n",
        "from nltk import tokenize \n",
        "from nltk.stem import RSLPStemmer\n",
        "from nltk.stem.porter import *\n",
        "import heapq\n",
        "import heapq as hp\n",
        "import time\n",
        "%matplotlib inline"
      ],
      "execution_count": 0,
      "outputs": [
        {
          "output_type": "stream",
          "text": [
            "[nltk_data] Downloading package punkt to /root/nltk_data...\n",
            "[nltk_data]   Package punkt is already up-to-date!\n",
            "[nltk_data] Downloading package stopwords to /root/nltk_data...\n",
            "[nltk_data]   Package stopwords is already up-to-date!\n",
            "[nltk_data] Downloading package averaged_perceptron_tagger to\n",
            "[nltk_data]     /root/nltk_data...\n",
            "[nltk_data]   Package averaged_perceptron_tagger is already up-to-\n",
            "[nltk_data]       date!\n"
          ],
          "name": "stdout"
        }
      ]
    },
    {
      "cell_type": "markdown",
      "metadata": {
        "id": "95kVwxqqxUoQ",
        "colab_type": "text"
      },
      "source": [
        "##Lendo Arquivo CSV"
      ]
    },
    {
      "cell_type": "code",
      "metadata": {
        "id": "2PQ66wuUwScE",
        "colab_type": "code",
        "colab": {}
      },
      "source": [
        "arquivo = pd.read_csv('results.csv')\n",
        "texto = arquivo['text']\n",
        "\n",
        "def eliminar_carac(text):\n",
        "  return re.sub(r'(\\W+|\\d+|\\b\\w{0,2}\\b)', ' ', text.lower())\n",
        "texto = texto.apply(eliminar_carac)\n",
        "\n",
        "texto = texto.apply(tokenize.word_tokenize, language='portuguese')\n",
        "arquivo.head()"
      ],
      "execution_count": 0,
      "outputs": []
    },
    {
      "cell_type": "code",
      "metadata": {
        "id": "iXAoJdcwyAsh",
        "colab_type": "code",
        "colab": {}
      },
      "source": [
        "stopwords = nltk.corpus.stopwords.words('portuguese')\n",
        "\n",
        "def eliminar_stopwords(text):\n",
        "  palavras = []\n",
        "  for palavra in text:\n",
        "    if(palavra not in stopwords):\n",
        "      palavras.append(palavra)\n",
        "  return palavras \n",
        "\n",
        "def build_index(arquivo):\n",
        "  numero_da_lista = 0\n",
        "  dic_index = {}\n",
        "  \n",
        "  for documento in arquivo:\n",
        "    \n",
        "    numero_da_lista += 1\n",
        "    doc = eliminar_stopwords(documento)\n",
        "    \n",
        "    for palavra in doc:\n",
        "      ocorrencia = doc.count(palavra)\n",
        "      par = (numero_da_lista, ocorrencia)\n",
        "      if palavra not in dic_index:\n",
        "        dic_index[palavra] = []\n",
        "      \n",
        "      if par not in dic_index[palavra]:\n",
        "         dic_index[palavra].append(par)\n",
        "  return dic_index\n",
        "index = {}              \n",
        "index = build_index(texto)"
      ],
      "execution_count": 0,
      "outputs": []
    },
    {
      "cell_type": "code",
      "metadata": {
        "id": "up_dpoFSyHhh",
        "colab_type": "code",
        "colab": {}
      },
      "source": [
        "M = texto.count()\n",
        "IDF = {}\n",
        "for pa in index:\n",
        "  k = len(index[pa])\n",
        "  idf = round(np.log((M+1)/k),2)\n",
        "  IDF[pa] = idf"
      ],
      "execution_count": 0,
      "outputs": []
    },
    {
      "cell_type": "markdown",
      "metadata": {
        "id": "HSDO4qeTyOBD",
        "colab_type": "text"
      },
      "source": [
        "## Questão 1 :"
      ]
    },
    {
      "cell_type": "code",
      "metadata": {
        "id": "Ip-iR4BvyR2H",
        "colab_type": "code",
        "outputId": "f3185ea2-35de-4f67-879a-64d2f5d727e2",
        "colab": {
          "base_uri": "https://localhost:8080/",
          "height": 34
        }
      },
      "source": [
        "numero_doc = 200\n",
        "document = arquivo.loc[numero_doc]\n",
        "query = 'ditadura militar'\n",
        "\n",
        "document.title"
      ],
      "execution_count": 0,
      "outputs": [
        {
          "output_type": "execute_result",
          "data": {
            "text/plain": [
              "'O ‘Abaporu’ visita São Paulo'"
            ]
          },
          "metadata": {
            "tags": []
          },
          "execution_count": 147
        }
      ]
    },
    {
      "cell_type": "markdown",
      "metadata": {
        "id": "puQYa0l5y6v1",
        "colab_type": "text"
      },
      "source": [
        "## Modelos vetorias do lab anterior"
      ]
    },
    {
      "cell_type": "code",
      "metadata": {
        "id": "AcDNlbpbzCnM",
        "colab_type": "code",
        "colab": {}
      },
      "source": [
        "def binario_r(query, doc):\n",
        "  contador = 0\n",
        "  query_palavras = query.split()\n",
        "  doc_palavras = doc.split()\n",
        "  \n",
        "  for palavra in query_palavras:\n",
        "    contador += (palavra in doc_palavras)\n",
        "    \n",
        "  return contador\n",
        "\n",
        "def tf_fun(query, doc):\n",
        "  contador = 0\n",
        "  doc_palavras = doc.split()\n",
        "  query_palavras = query.split()\n",
        "  \n",
        "  for palavra in query_palavras:\n",
        "    contador += doc_palavras.count(palavra)\n",
        "  \n",
        "  return contador\n",
        "\n",
        "def tf_idf(query, document):\n",
        "  score = 0\n",
        "  doc_tokens = document.split()\n",
        "  query_tokens = query.split()\n",
        "  \n",
        "  for word in query_tokens:\n",
        "    cwd = doc_tokens.count(word)\n",
        "    if word in index:\n",
        "      score += cwd * len(index[word][-1])\n",
        "  \n",
        "  return round(score,2)\n",
        "\n",
        "\n",
        "def bm25(query, document, k):\n",
        "  score = 0\n",
        "  doc_tokens = document.split()\n",
        "  query_tokens = query.split()\n",
        "  \n",
        "  words = [word for word in query_tokens if word in doc_tokens]\n",
        "    \n",
        "  for word in words:\n",
        "    cwd = doc_tokens.count(word)\n",
        "    dfw = 0\n",
        "    if word in index:\n",
        "      dfw = len(index[word][:-1])\n",
        "    score += (((k+1) * cwd) / (cwd + k)) * np.log10(((M+1) / dfw)) if dfw != 0 else 0\n",
        "  \n",
        "  return round(score,2)"
      ],
      "execution_count": 0,
      "outputs": []
    },
    {
      "cell_type": "code",
      "metadata": {
        "id": "yz4AS4PVzjku",
        "colab_type": "code",
        "colab": {}
      },
      "source": [
        "import bisect\n",
        "def topX(query,tamanho):\n",
        "  n = 0\n",
        "  binario = []\n",
        "  tf = []\n",
        "  tfidf = []\n",
        "  b25 = []\n",
        "  for doc in arquivo.text:\n",
        "    doc = doc.lower()\n",
        "    n += 1\n",
        "    bisect.insort(binario, (binario_r(query, doc), n))\n",
        "    bisect.insort(tf, (tf_fun(query, doc), n))\n",
        "    bisect.insort(tfidf, (tf_idf(query, doc), n))\n",
        "    bisect.insort(b25, (bm25(query, doc,20), n))\n",
        " \n",
        "  binario.reverse()\n",
        "  tf.reverse()\n",
        "  tfidf.reverse()\n",
        "  b25.reverse()\n",
        "  \n",
        "  return binario[:tamanho],tf[:tamanho],tfidf[:tamanho],b25[:tamanho]"
      ],
      "execution_count": 0,
      "outputs": []
    },
    {
      "cell_type": "code",
      "metadata": {
        "id": "SXMVoIBO0DxB",
        "colab_type": "code",
        "outputId": "d9c5162e-6851-41af-f00c-e50836bcf76a",
        "colab": {
          "base_uri": "https://localhost:8080/",
          "height": 359
        }
      },
      "source": [
        "topX_b, topX_tf, topX_tfidf, topX_bm25 = topX(query,10)\n",
        "df = pd.DataFrame()\n",
        "\n",
        "\n",
        "df['Binary'] = topX_b\n",
        "df['TF'] = topX_tf\n",
        "df['TF IDF'] = topX_tfidf\n",
        "df['BM25'] = topX_bm25\n",
        "df"
      ],
      "execution_count": 0,
      "outputs": [
        {
          "output_type": "execute_result",
          "data": {
            "text/html": [
              "<div>\n",
              "<style scoped>\n",
              "    .dataframe tbody tr th:only-of-type {\n",
              "        vertical-align: middle;\n",
              "    }\n",
              "\n",
              "    .dataframe tbody tr th {\n",
              "        vertical-align: top;\n",
              "    }\n",
              "\n",
              "    .dataframe thead th {\n",
              "        text-align: right;\n",
              "    }\n",
              "</style>\n",
              "<table border=\"1\" class=\"dataframe\">\n",
              "  <thead>\n",
              "    <tr style=\"text-align: right;\">\n",
              "      <th></th>\n",
              "      <th>Binary</th>\n",
              "      <th>TF</th>\n",
              "      <th>TF IDF</th>\n",
              "      <th>BM25</th>\n",
              "    </tr>\n",
              "  </thead>\n",
              "  <tbody>\n",
              "    <tr>\n",
              "      <th>0</th>\n",
              "      <td>(2, 238)</td>\n",
              "      <td>(22, 7)</td>\n",
              "      <td>(44, 7)</td>\n",
              "      <td>(12.54, 7)</td>\n",
              "    </tr>\n",
              "    <tr>\n",
              "      <th>1</th>\n",
              "      <td>(2, 233)</td>\n",
              "      <td>(15, 238)</td>\n",
              "      <td>(30, 238)</td>\n",
              "      <td>(9.45, 238)</td>\n",
              "    </tr>\n",
              "    <tr>\n",
              "      <th>2</th>\n",
              "      <td>(2, 230)</td>\n",
              "      <td>(13, 115)</td>\n",
              "      <td>(26, 115)</td>\n",
              "      <td>(8.0, 115)</td>\n",
              "    </tr>\n",
              "    <tr>\n",
              "      <th>3</th>\n",
              "      <td>(2, 229)</td>\n",
              "      <td>(12, 25)</td>\n",
              "      <td>(24, 25)</td>\n",
              "      <td>(7.9, 3)</td>\n",
              "    </tr>\n",
              "    <tr>\n",
              "      <th>4</th>\n",
              "      <td>(2, 224)</td>\n",
              "      <td>(12, 3)</td>\n",
              "      <td>(24, 3)</td>\n",
              "      <td>(7.67, 216)</td>\n",
              "    </tr>\n",
              "    <tr>\n",
              "      <th>5</th>\n",
              "      <td>(2, 223)</td>\n",
              "      <td>(11, 223)</td>\n",
              "      <td>(22, 223)</td>\n",
              "      <td>(7.56, 172)</td>\n",
              "    </tr>\n",
              "    <tr>\n",
              "      <th>6</th>\n",
              "      <td>(2, 218)</td>\n",
              "      <td>(11, 216)</td>\n",
              "      <td>(22, 216)</td>\n",
              "      <td>(7.23, 223)</td>\n",
              "    </tr>\n",
              "    <tr>\n",
              "      <th>7</th>\n",
              "      <td>(2, 216)</td>\n",
              "      <td>(11, 172)</td>\n",
              "      <td>(22, 172)</td>\n",
              "      <td>(7.14, 95)</td>\n",
              "    </tr>\n",
              "    <tr>\n",
              "      <th>8</th>\n",
              "      <td>(2, 208)</td>\n",
              "      <td>(10, 95)</td>\n",
              "      <td>(20, 95)</td>\n",
              "      <td>(6.83, 25)</td>\n",
              "    </tr>\n",
              "    <tr>\n",
              "      <th>9</th>\n",
              "      <td>(2, 172)</td>\n",
              "      <td>(7, 169)</td>\n",
              "      <td>(14, 169)</td>\n",
              "      <td>(5.36, 6)</td>\n",
              "    </tr>\n",
              "  </tbody>\n",
              "</table>\n",
              "</div>"
            ],
            "text/plain": [
              "     Binary         TF     TF IDF         BM25\n",
              "0  (2, 238)    (22, 7)    (44, 7)   (12.54, 7)\n",
              "1  (2, 233)  (15, 238)  (30, 238)  (9.45, 238)\n",
              "2  (2, 230)  (13, 115)  (26, 115)   (8.0, 115)\n",
              "3  (2, 229)   (12, 25)   (24, 25)     (7.9, 3)\n",
              "4  (2, 224)    (12, 3)    (24, 3)  (7.67, 216)\n",
              "5  (2, 223)  (11, 223)  (22, 223)  (7.56, 172)\n",
              "6  (2, 218)  (11, 216)  (22, 216)  (7.23, 223)\n",
              "7  (2, 216)  (11, 172)  (22, 172)   (7.14, 95)\n",
              "8  (2, 208)   (10, 95)   (20, 95)   (6.83, 25)\n",
              "9  (2, 172)   (7, 169)  (14, 169)    (5.36, 6)"
            ]
          },
          "metadata": {
            "tags": []
          },
          "execution_count": 150
        }
      ]
    },
    {
      "cell_type": "code",
      "metadata": {
        "id": "FBAwQ0kE1cUb",
        "colab_type": "code",
        "outputId": "07f5eb68-bcc3-42a3-b7f1-23e9a386d878",
        "colab": {
          "base_uri": "https://localhost:8080/",
          "height": 80
        }
      },
      "source": [
        "def reciprocal_R(tuples, docId):\n",
        "  n = 1.0;\n",
        "  for r,doc in tuples:\n",
        "    if doc == docId:\n",
        "      return  [round(1 / n, 2)]\n",
        "    else:\n",
        "      n += 1\n",
        "\n",
        "reciprocal_rank_df = pd.DataFrame()\n",
        "reciprocal_rank_df['Binary'] = reciprocal_R(df['Binary'], numero_doc)\n",
        "reciprocal_rank_df['TF'] = reciprocal_R(df['TF'], numero_doc)\n",
        "reciprocal_rank_df['TF IDF'] = reciprocal_R(df['TF IDF'], numero_doc)\n",
        "reciprocal_rank_df['BM25'] = reciprocal_R(df['BM25'], numero_doc)\n",
        "rank_df"
      ],
      "execution_count": 0,
      "outputs": [
        {
          "output_type": "execute_result",
          "data": {
            "text/html": [
              "<div>\n",
              "<style scoped>\n",
              "    .dataframe tbody tr th:only-of-type {\n",
              "        vertical-align: middle;\n",
              "    }\n",
              "\n",
              "    .dataframe tbody tr th {\n",
              "        vertical-align: top;\n",
              "    }\n",
              "\n",
              "    .dataframe thead th {\n",
              "        text-align: right;\n",
              "    }\n",
              "</style>\n",
              "<table border=\"1\" class=\"dataframe\">\n",
              "  <thead>\n",
              "    <tr style=\"text-align: right;\">\n",
              "      <th></th>\n",
              "      <th>Binary</th>\n",
              "      <th>TF</th>\n",
              "      <th>TF IDF</th>\n",
              "      <th>BM25</th>\n",
              "    </tr>\n",
              "  </thead>\n",
              "  <tbody>\n",
              "    <tr>\n",
              "      <th>1</th>\n",
              "      <td>1.0</td>\n",
              "      <td>None</td>\n",
              "      <td>0.25</td>\n",
              "      <td>0.33</td>\n",
              "    </tr>\n",
              "  </tbody>\n",
              "</table>\n",
              "</div>"
            ],
            "text/plain": [
              "   Binary    TF  TF IDF  BM25\n",
              "1     1.0  None    0.25  0.33"
            ]
          },
          "metadata": {
            "tags": []
          },
          "execution_count": 157
        }
      ]
    },
    {
      "cell_type": "markdown",
      "metadata": {
        "id": "3DSmVkq04htS",
        "colab_type": "text"
      },
      "source": [
        "# Questão 2"
      ]
    },
    {
      "cell_type": "markdown",
      "metadata": {
        "id": "5pSRV4FjxYmR",
        "colab_type": "text"
      },
      "source": [
        "##Lendo Arquivo JSON"
      ]
    },
    {
      "cell_type": "code",
      "metadata": {
        "id": "isL_2u2ExB8r",
        "colab_type": "code",
        "colab": {}
      },
      "source": [
        "arquivo_json = pd.read_json('results_final.json')\n",
        "\n",
        "feedback = {arquivo_json['query'][i]:arquivo_json['docs'][i] for i in range(10)}\n"
      ],
      "execution_count": 0,
      "outputs": []
    },
    {
      "cell_type": "code",
      "metadata": {
        "id": "MWXolGR34hP7",
        "colab_type": "code",
        "colab": {}
      },
      "source": [
        "def intersection(a,b):\n",
        "  return [elemento for elemento in a if elemento in b]\n",
        "\n",
        "def doc_indexes(model):\n",
        "  return [documento for pontuacao,documento in model]\n",
        "\n",
        "def tamanho(elemento):\n",
        "  return len(elemento)\n",
        "\n",
        "def ap(query):\n",
        "  docs = []\n",
        "\n",
        "  for doc_info in feedback[query]:\n",
        "    row = arquivo.loc[arquivo.url == doc_info['URL']]\n",
        "    docs.append(row.index[0])\n",
        "  \n",
        "  binary, tf, tfidf, bm25 = topX(query, 10)\n",
        "  binary= doc_indexes(binary)\n",
        "  tf= doc_indexes(tf)\n",
        "  tfidf=doc_indexes(tfidf)\n",
        "  bm25=doc_indexes(bm25)\n",
        " \n",
        "  \n",
        "  calculo_ap_binary = len(intersection(binary, docs)) / tamanho(binary)\n",
        "  calculo_ap_tf = len(intersection(tf, docs)) / tamanho(tf)\n",
        "  calculo_ap_tfidf = len(intersection(tfidf, docs)) / tamanho(tfidf)\n",
        "  calculo_ap_bm25 = len(intersection(bm25, docs)) / tamanho(bm25)\n",
        "  \n",
        "  return  calculo_ap_binary,  calculo_ap_tf,  calculo_ap_tfidf,  calculo_ap_bm25\n",
        "  "
      ],
      "execution_count": 0,
      "outputs": []
    },
    {
      "cell_type": "markdown",
      "metadata": {
        "id": "-PfaYCr8-klX",
        "colab_type": "text"
      },
      "source": [
        "## Calculo Do MAP"
      ]
    },
    {
      "cell_type": "code",
      "metadata": {
        "id": "uWahO-_o5L6h",
        "colab_type": "code",
        "colab": {}
      },
      "source": [
        "def map_Calculo(queries):\n",
        "  binary_num = 0\n",
        "  tf_num = 0\n",
        "  tfidf_num = 0\n",
        "  bm25_num = 0\n",
        "  \n",
        "  for query in queries:\n",
        "    binary_Ap, tf_Ap, tfidf_Ap, bm25_Ap = ap(query)\n",
        "    binary_num =binary_num+ binary_Ap\n",
        "    tf_num =tf_num+ tf_Ap\n",
        "    tfidf_num = tfidf_num+ tfidf_Ap\n",
        "    bm25_num = bm25_num + bm25_Ap\n",
        "  \n",
        "  map_binary = round(binary_num / len(queries),2)\n",
        "  map_tf = round(tf_num / len(queries),2)\n",
        "  map_tfidf = round(tfidf_num / len(queries),2)\n",
        "  map_bm25 = round(bm25_num / len(queries),2)\n",
        "  \n",
        "  return map_binary, map_tf, map_tfidf, map_bm25\n",
        "\n"
      ],
      "execution_count": 0,
      "outputs": []
    },
    {
      "cell_type": "markdown",
      "metadata": {
        "id": "Zkot8FLI_WvM",
        "colab_type": "text"
      },
      "source": [
        "## Criação da Tabela Com tamanho 10 , do metodo TopX"
      ]
    },
    {
      "cell_type": "code",
      "metadata": {
        "id": "Qzpbb-TQ_Nbk",
        "colab_type": "code",
        "outputId": "11b7f73b-f125-4ba8-f845-580b2700dbe3",
        "colab": {
          "base_uri": "https://localhost:8080/",
          "height": 80
        }
      },
      "source": [
        "map_binary, map_tf, map_tfidf, map_bm25 = map_Calculo(arquivo_json['query'])\n",
        "\n",
        "map_df = pd.DataFrame()\n",
        "map_df['Binary'] = [map_binary]\n",
        "map_df['TF'] = [map_tf]\n",
        "map_df['TF-IDF'] = [map_tfidf]\n",
        "map_df['BM25'] = [map_bm25]\n",
        "map_df\n"
      ],
      "execution_count": 0,
      "outputs": [
        {
          "output_type": "execute_result",
          "data": {
            "text/html": [
              "<div>\n",
              "<style scoped>\n",
              "    .dataframe tbody tr th:only-of-type {\n",
              "        vertical-align: middle;\n",
              "    }\n",
              "\n",
              "    .dataframe tbody tr th {\n",
              "        vertical-align: top;\n",
              "    }\n",
              "\n",
              "    .dataframe thead th {\n",
              "        text-align: right;\n",
              "    }\n",
              "</style>\n",
              "<table border=\"1\" class=\"dataframe\">\n",
              "  <thead>\n",
              "    <tr style=\"text-align: right;\">\n",
              "      <th></th>\n",
              "      <th>Binary</th>\n",
              "      <th>TF</th>\n",
              "      <th>TF-IDF</th>\n",
              "      <th>BM25</th>\n",
              "    </tr>\n",
              "  </thead>\n",
              "  <tbody>\n",
              "    <tr>\n",
              "      <th>0</th>\n",
              "      <td>0.03</td>\n",
              "      <td>0.0</td>\n",
              "      <td>0.01</td>\n",
              "      <td>0.01</td>\n",
              "    </tr>\n",
              "  </tbody>\n",
              "</table>\n",
              "</div>"
            ],
            "text/plain": [
              "   Binary   TF  TF-IDF  BM25\n",
              "0    0.03  0.0    0.01  0.01"
            ]
          },
          "metadata": {
            "tags": []
          },
          "execution_count": 186
        }
      ]
    },
    {
      "cell_type": "markdown",
      "metadata": {
        "id": "SAV0ZBTuG-BV",
        "colab_type": "text"
      },
      "source": [
        "## Binary obteve o melhor resultado, Maior valor do metodo map_Calculo"
      ]
    },
    {
      "cell_type": "markdown",
      "metadata": {
        "id": "ECJtCN-EHcxI",
        "colab_type": "text"
      },
      "source": [
        "## Questão 3 avaliação multi-nível DCG"
      ]
    },
    {
      "cell_type": "code",
      "metadata": {
        "id": "YiPyil6PMvec",
        "colab_type": "code",
        "colab": {}
      },
      "source": [
        "\n",
        "\n"
      ],
      "execution_count": 0,
      "outputs": []
    }
  ]
}